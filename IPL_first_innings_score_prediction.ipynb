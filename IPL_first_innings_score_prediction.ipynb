{
  "cells": [
    {
      "cell_type": "markdown",
      "metadata": {
        "colab_type": "text",
        "id": "view-in-github"
      },
      "source": [
        "<a href=\"https://colab.research.google.com/github/SarangGami/IPL-First-Innings-Score-Prediction/blob/main/IPL_first_innings_score_prediction.ipynb\" target=\"_parent\"><img src=\"https://colab.research.google.com/assets/colab-badge.svg\" alt=\"Open In Colab\"/></a>"
      ]
    },
    {
      "cell_type": "code",
      "execution_count": 36,
      "metadata": {
        "id": "bfODG2n4lY8R"
      },
      "outputs": [],
      "source": [
        "# Data manipulation libraries\n",
        "import pandas as pd\n",
        "import numpy as np\n",
        "\n",
        "# Data visualization libraries\n",
        "import matplotlib.pyplot as plt\n",
        "%matplotlib inline\n",
        "import matplotlib\n",
        "import seaborn as sns\n",
        "\n",
        "# Preprocessing libraries\n",
        "from sklearn.preprocessing import StandardScaler\n",
        "from sklearn.preprocessing import MinMaxScaler\n",
        "from sklearn.preprocessing import OneHotEncoder\n",
        "from sklearn.preprocessing import OrdinalEncoder\n",
        "\n",
        "# For build pipeline\n",
        "from sklearn.compose import ColumnTransformer\n",
        "from sklearn.pipeline import Pipeline\n",
        "from sklearn.pipeline import make_pipeline\n",
        "\n",
        "\n",
        "# Machine learning models\n",
        "from sklearn.linear_model import LinearRegression\n",
        "from sklearn.linear_model import Lasso\n",
        "from sklearn.linear_model import Ridge\n",
        "from sklearn.linear_model import ElasticNet\n",
        "from sklearn.tree import DecisionTreeRegressor\n",
        "\n",
        "from sklearn.ensemble import RandomForestRegressor, GradientBoostingRegressor, ExtraTreesRegressor, AdaBoostRegressor\n",
        "from sklearn.ensemble import VotingRegressor,StackingRegressor\n",
        "\n",
        "\n",
        "# for plot decision tree\n",
        "from sklearn import tree\n",
        "\n",
        "# Model selection libraries\n",
        "from sklearn.model_selection import cross_validate\n",
        "from sklearn.model_selection import train_test_split\n",
        "from sklearn.model_selection import GridSearchCV\n",
        "from sklearn.model_selection import cross_val_score\n",
        "from sklearn.model_selection import RepeatedStratifiedKFold\n",
        "from sklearn.model_selection import RandomizedSearchCV\n",
        "\n",
        "# importing XGB regressor\n",
        "from xgboost import XGBRegressor\n",
        "\n",
        "# Metrics libraries for model evaluation\n",
        "from sklearn import metrics\n",
        "from sklearn.metrics import r2_score\n",
        "from sklearn.metrics import mean_squared_error\n",
        "from sklearn.metrics import accuracy_score\n",
        "from sklearn.metrics import mean_absolute_error\n",
        "\n",
        "# Warnings module handles warnings in Python\n",
        "import warnings\n",
        "warnings.filterwarnings('ignore')"
      ]
    },
    {
      "cell_type": "markdown",
      "metadata": {
        "id": "hP5gRr5buO9G"
      },
      "source": [
        "### **Data Gathering & accessing**"
      ]
    },
    {
      "cell_type": "code",
      "execution_count": 37,
      "metadata": {
        "id": "8T59s47jsVhT"
      },
      "outputs": [],
      "source": [
        "# Loading the dataset\n",
        "df = pd.read_csv('ipl.csv')"
      ]
    },
    {
      "cell_type": "code",
      "execution_count": 38,
      "metadata": {
        "colab": {
          "base_uri": "https://localhost:8080/",
          "height": 354
        },
        "id": "MNiP6vLdsVdt",
        "outputId": "c087462c-669e-4ab8-b9ce-990019f0308d"
      },
      "outputs": [
        {
          "data": {
            "text/html": [
              "<div>\n",
              "<style scoped>\n",
              "    .dataframe tbody tr th:only-of-type {\n",
              "        vertical-align: middle;\n",
              "    }\n",
              "\n",
              "    .dataframe tbody tr th {\n",
              "        vertical-align: top;\n",
              "    }\n",
              "\n",
              "    .dataframe thead th {\n",
              "        text-align: right;\n",
              "    }\n",
              "</style>\n",
              "<table border=\"1\" class=\"dataframe\">\n",
              "  <thead>\n",
              "    <tr style=\"text-align: right;\">\n",
              "      <th></th>\n",
              "      <th>mid</th>\n",
              "      <th>date</th>\n",
              "      <th>venue</th>\n",
              "      <th>bat_team</th>\n",
              "      <th>bowl_team</th>\n",
              "      <th>batsman</th>\n",
              "      <th>bowler</th>\n",
              "      <th>runs</th>\n",
              "      <th>wickets</th>\n",
              "      <th>overs</th>\n",
              "      <th>runs_last_5</th>\n",
              "      <th>wickets_last_5</th>\n",
              "      <th>striker</th>\n",
              "      <th>non-striker</th>\n",
              "      <th>total</th>\n",
              "    </tr>\n",
              "  </thead>\n",
              "  <tbody>\n",
              "    <tr>\n",
              "      <th>0</th>\n",
              "      <td>1</td>\n",
              "      <td>2008-04-18</td>\n",
              "      <td>M Chinnaswamy Stadium</td>\n",
              "      <td>Kolkata Knight Riders</td>\n",
              "      <td>Royal Challengers Bangalore</td>\n",
              "      <td>SC Ganguly</td>\n",
              "      <td>P Kumar</td>\n",
              "      <td>1</td>\n",
              "      <td>0</td>\n",
              "      <td>0.1</td>\n",
              "      <td>1</td>\n",
              "      <td>0</td>\n",
              "      <td>0</td>\n",
              "      <td>0</td>\n",
              "      <td>222</td>\n",
              "    </tr>\n",
              "    <tr>\n",
              "      <th>1</th>\n",
              "      <td>1</td>\n",
              "      <td>2008-04-18</td>\n",
              "      <td>M Chinnaswamy Stadium</td>\n",
              "      <td>Kolkata Knight Riders</td>\n",
              "      <td>Royal Challengers Bangalore</td>\n",
              "      <td>BB McCullum</td>\n",
              "      <td>P Kumar</td>\n",
              "      <td>1</td>\n",
              "      <td>0</td>\n",
              "      <td>0.2</td>\n",
              "      <td>1</td>\n",
              "      <td>0</td>\n",
              "      <td>0</td>\n",
              "      <td>0</td>\n",
              "      <td>222</td>\n",
              "    </tr>\n",
              "    <tr>\n",
              "      <th>2</th>\n",
              "      <td>1</td>\n",
              "      <td>2008-04-18</td>\n",
              "      <td>M Chinnaswamy Stadium</td>\n",
              "      <td>Kolkata Knight Riders</td>\n",
              "      <td>Royal Challengers Bangalore</td>\n",
              "      <td>BB McCullum</td>\n",
              "      <td>P Kumar</td>\n",
              "      <td>2</td>\n",
              "      <td>0</td>\n",
              "      <td>0.2</td>\n",
              "      <td>2</td>\n",
              "      <td>0</td>\n",
              "      <td>0</td>\n",
              "      <td>0</td>\n",
              "      <td>222</td>\n",
              "    </tr>\n",
              "    <tr>\n",
              "      <th>3</th>\n",
              "      <td>1</td>\n",
              "      <td>2008-04-18</td>\n",
              "      <td>M Chinnaswamy Stadium</td>\n",
              "      <td>Kolkata Knight Riders</td>\n",
              "      <td>Royal Challengers Bangalore</td>\n",
              "      <td>BB McCullum</td>\n",
              "      <td>P Kumar</td>\n",
              "      <td>2</td>\n",
              "      <td>0</td>\n",
              "      <td>0.3</td>\n",
              "      <td>2</td>\n",
              "      <td>0</td>\n",
              "      <td>0</td>\n",
              "      <td>0</td>\n",
              "      <td>222</td>\n",
              "    </tr>\n",
              "    <tr>\n",
              "      <th>4</th>\n",
              "      <td>1</td>\n",
              "      <td>2008-04-18</td>\n",
              "      <td>M Chinnaswamy Stadium</td>\n",
              "      <td>Kolkata Knight Riders</td>\n",
              "      <td>Royal Challengers Bangalore</td>\n",
              "      <td>BB McCullum</td>\n",
              "      <td>P Kumar</td>\n",
              "      <td>2</td>\n",
              "      <td>0</td>\n",
              "      <td>0.4</td>\n",
              "      <td>2</td>\n",
              "      <td>0</td>\n",
              "      <td>0</td>\n",
              "      <td>0</td>\n",
              "      <td>222</td>\n",
              "    </tr>\n",
              "  </tbody>\n",
              "</table>\n",
              "</div>"
            ],
            "text/plain": [
              "   mid        date                  venue               bat_team  \\\n",
              "0    1  2008-04-18  M Chinnaswamy Stadium  Kolkata Knight Riders   \n",
              "1    1  2008-04-18  M Chinnaswamy Stadium  Kolkata Knight Riders   \n",
              "2    1  2008-04-18  M Chinnaswamy Stadium  Kolkata Knight Riders   \n",
              "3    1  2008-04-18  M Chinnaswamy Stadium  Kolkata Knight Riders   \n",
              "4    1  2008-04-18  M Chinnaswamy Stadium  Kolkata Knight Riders   \n",
              "\n",
              "                     bowl_team      batsman   bowler  runs  wickets  overs  \\\n",
              "0  Royal Challengers Bangalore   SC Ganguly  P Kumar     1        0    0.1   \n",
              "1  Royal Challengers Bangalore  BB McCullum  P Kumar     1        0    0.2   \n",
              "2  Royal Challengers Bangalore  BB McCullum  P Kumar     2        0    0.2   \n",
              "3  Royal Challengers Bangalore  BB McCullum  P Kumar     2        0    0.3   \n",
              "4  Royal Challengers Bangalore  BB McCullum  P Kumar     2        0    0.4   \n",
              "\n",
              "   runs_last_5  wickets_last_5  striker  non-striker  total  \n",
              "0            1               0        0            0    222  \n",
              "1            1               0        0            0    222  \n",
              "2            2               0        0            0    222  \n",
              "3            2               0        0            0    222  \n",
              "4            2               0        0            0    222  "
            ]
          },
          "execution_count": 38,
          "metadata": {},
          "output_type": "execute_result"
        }
      ],
      "source": [
        "df.head()"
      ]
    },
    {
      "cell_type": "code",
      "execution_count": 39,
      "metadata": {
        "colab": {
          "base_uri": "https://localhost:8080/",
          "height": 354
        },
        "id": "ucVGWhY9sVbP",
        "outputId": "fa51f04d-f785-41a0-dd00-6391dd46f057"
      },
      "outputs": [
        {
          "data": {
            "text/html": [
              "<div>\n",
              "<style scoped>\n",
              "    .dataframe tbody tr th:only-of-type {\n",
              "        vertical-align: middle;\n",
              "    }\n",
              "\n",
              "    .dataframe tbody tr th {\n",
              "        vertical-align: top;\n",
              "    }\n",
              "\n",
              "    .dataframe thead th {\n",
              "        text-align: right;\n",
              "    }\n",
              "</style>\n",
              "<table border=\"1\" class=\"dataframe\">\n",
              "  <thead>\n",
              "    <tr style=\"text-align: right;\">\n",
              "      <th></th>\n",
              "      <th>mid</th>\n",
              "      <th>date</th>\n",
              "      <th>venue</th>\n",
              "      <th>bat_team</th>\n",
              "      <th>bowl_team</th>\n",
              "      <th>batsman</th>\n",
              "      <th>bowler</th>\n",
              "      <th>runs</th>\n",
              "      <th>wickets</th>\n",
              "      <th>overs</th>\n",
              "      <th>runs_last_5</th>\n",
              "      <th>wickets_last_5</th>\n",
              "      <th>striker</th>\n",
              "      <th>non-striker</th>\n",
              "      <th>total</th>\n",
              "    </tr>\n",
              "  </thead>\n",
              "  <tbody>\n",
              "    <tr>\n",
              "      <th>76009</th>\n",
              "      <td>617</td>\n",
              "      <td>2017-05-21</td>\n",
              "      <td>Rajiv Gandhi International Stadium, Uppal</td>\n",
              "      <td>Mumbai Indians</td>\n",
              "      <td>Rising Pune Supergiant</td>\n",
              "      <td>KH Pandya</td>\n",
              "      <td>DT Christian</td>\n",
              "      <td>121</td>\n",
              "      <td>7</td>\n",
              "      <td>19.2</td>\n",
              "      <td>40</td>\n",
              "      <td>0</td>\n",
              "      <td>40</td>\n",
              "      <td>12</td>\n",
              "      <td>129</td>\n",
              "    </tr>\n",
              "    <tr>\n",
              "      <th>76010</th>\n",
              "      <td>617</td>\n",
              "      <td>2017-05-21</td>\n",
              "      <td>Rajiv Gandhi International Stadium, Uppal</td>\n",
              "      <td>Mumbai Indians</td>\n",
              "      <td>Rising Pune Supergiant</td>\n",
              "      <td>KH Pandya</td>\n",
              "      <td>DT Christian</td>\n",
              "      <td>127</td>\n",
              "      <td>7</td>\n",
              "      <td>19.3</td>\n",
              "      <td>46</td>\n",
              "      <td>0</td>\n",
              "      <td>46</td>\n",
              "      <td>12</td>\n",
              "      <td>129</td>\n",
              "    </tr>\n",
              "    <tr>\n",
              "      <th>76011</th>\n",
              "      <td>617</td>\n",
              "      <td>2017-05-21</td>\n",
              "      <td>Rajiv Gandhi International Stadium, Uppal</td>\n",
              "      <td>Mumbai Indians</td>\n",
              "      <td>Rising Pune Supergiant</td>\n",
              "      <td>KH Pandya</td>\n",
              "      <td>DT Christian</td>\n",
              "      <td>128</td>\n",
              "      <td>7</td>\n",
              "      <td>19.4</td>\n",
              "      <td>47</td>\n",
              "      <td>0</td>\n",
              "      <td>47</td>\n",
              "      <td>12</td>\n",
              "      <td>129</td>\n",
              "    </tr>\n",
              "    <tr>\n",
              "      <th>76012</th>\n",
              "      <td>617</td>\n",
              "      <td>2017-05-21</td>\n",
              "      <td>Rajiv Gandhi International Stadium, Uppal</td>\n",
              "      <td>Mumbai Indians</td>\n",
              "      <td>Rising Pune Supergiant</td>\n",
              "      <td>MG Johnson</td>\n",
              "      <td>DT Christian</td>\n",
              "      <td>129</td>\n",
              "      <td>7</td>\n",
              "      <td>19.5</td>\n",
              "      <td>48</td>\n",
              "      <td>0</td>\n",
              "      <td>47</td>\n",
              "      <td>13</td>\n",
              "      <td>129</td>\n",
              "    </tr>\n",
              "    <tr>\n",
              "      <th>76013</th>\n",
              "      <td>617</td>\n",
              "      <td>2017-05-21</td>\n",
              "      <td>Rajiv Gandhi International Stadium, Uppal</td>\n",
              "      <td>Mumbai Indians</td>\n",
              "      <td>Rising Pune Supergiant</td>\n",
              "      <td>KH Pandya</td>\n",
              "      <td>DT Christian</td>\n",
              "      <td>129</td>\n",
              "      <td>8</td>\n",
              "      <td>19.6</td>\n",
              "      <td>47</td>\n",
              "      <td>1</td>\n",
              "      <td>47</td>\n",
              "      <td>13</td>\n",
              "      <td>129</td>\n",
              "    </tr>\n",
              "  </tbody>\n",
              "</table>\n",
              "</div>"
            ],
            "text/plain": [
              "       mid        date                                      venue  \\\n",
              "76009  617  2017-05-21  Rajiv Gandhi International Stadium, Uppal   \n",
              "76010  617  2017-05-21  Rajiv Gandhi International Stadium, Uppal   \n",
              "76011  617  2017-05-21  Rajiv Gandhi International Stadium, Uppal   \n",
              "76012  617  2017-05-21  Rajiv Gandhi International Stadium, Uppal   \n",
              "76013  617  2017-05-21  Rajiv Gandhi International Stadium, Uppal   \n",
              "\n",
              "             bat_team               bowl_team     batsman        bowler  runs  \\\n",
              "76009  Mumbai Indians  Rising Pune Supergiant   KH Pandya  DT Christian   121   \n",
              "76010  Mumbai Indians  Rising Pune Supergiant   KH Pandya  DT Christian   127   \n",
              "76011  Mumbai Indians  Rising Pune Supergiant   KH Pandya  DT Christian   128   \n",
              "76012  Mumbai Indians  Rising Pune Supergiant  MG Johnson  DT Christian   129   \n",
              "76013  Mumbai Indians  Rising Pune Supergiant   KH Pandya  DT Christian   129   \n",
              "\n",
              "       wickets  overs  runs_last_5  wickets_last_5  striker  non-striker  \\\n",
              "76009        7   19.2           40               0       40           12   \n",
              "76010        7   19.3           46               0       46           12   \n",
              "76011        7   19.4           47               0       47           12   \n",
              "76012        7   19.5           48               0       47           13   \n",
              "76013        8   19.6           47               1       47           13   \n",
              "\n",
              "       total  \n",
              "76009    129  \n",
              "76010    129  \n",
              "76011    129  \n",
              "76012    129  \n",
              "76013    129  "
            ]
          },
          "execution_count": 39,
          "metadata": {},
          "output_type": "execute_result"
        }
      ],
      "source": [
        "df.tail()"
      ]
    },
    {
      "cell_type": "code",
      "execution_count": 40,
      "metadata": {
        "colab": {
          "base_uri": "https://localhost:8080/"
        },
        "id": "b4UpmBYEsVYP",
        "outputId": "ec21125d-1b8c-4ea1-ee6e-65d499dc2dac"
      },
      "outputs": [
        {
          "data": {
            "text/plain": [
              "(76014, 15)"
            ]
          },
          "execution_count": 40,
          "metadata": {},
          "output_type": "execute_result"
        }
      ],
      "source": [
        "df.shape"
      ]
    },
    {
      "cell_type": "code",
      "execution_count": 41,
      "metadata": {
        "colab": {
          "base_uri": "https://localhost:8080/"
        },
        "id": "MAzmscJ_sVV8",
        "outputId": "f598541e-d4a1-496f-95f9-6f4b81804ed1"
      },
      "outputs": [
        {
          "name": "stdout",
          "output_type": "stream",
          "text": [
            "<class 'pandas.core.frame.DataFrame'>\n",
            "RangeIndex: 76014 entries, 0 to 76013\n",
            "Data columns (total 15 columns):\n",
            " #   Column          Non-Null Count  Dtype  \n",
            "---  ------          --------------  -----  \n",
            " 0   mid             76014 non-null  int64  \n",
            " 1   date            76014 non-null  object \n",
            " 2   venue           76014 non-null  object \n",
            " 3   bat_team        76014 non-null  object \n",
            " 4   bowl_team       76014 non-null  object \n",
            " 5   batsman         76014 non-null  object \n",
            " 6   bowler          76014 non-null  object \n",
            " 7   runs            76014 non-null  int64  \n",
            " 8   wickets         76014 non-null  int64  \n",
            " 9   overs           76014 non-null  float64\n",
            " 10  runs_last_5     76014 non-null  int64  \n",
            " 11  wickets_last_5  76014 non-null  int64  \n",
            " 12  striker         76014 non-null  int64  \n",
            " 13  non-striker     76014 non-null  int64  \n",
            " 14  total           76014 non-null  int64  \n",
            "dtypes: float64(1), int64(8), object(6)\n",
            "memory usage: 8.7+ MB\n"
          ]
        }
      ],
      "source": [
        "df.info()"
      ]
    },
    {
      "cell_type": "code",
      "execution_count": 42,
      "metadata": {
        "colab": {
          "base_uri": "https://localhost:8080/",
          "height": 300
        },
        "id": "TAZLRyYVsVTy",
        "outputId": "7fa9a9a8-b348-4908-ed31-da7390a88d51"
      },
      "outputs": [
        {
          "data": {
            "text/html": [
              "<div>\n",
              "<style scoped>\n",
              "    .dataframe tbody tr th:only-of-type {\n",
              "        vertical-align: middle;\n",
              "    }\n",
              "\n",
              "    .dataframe tbody tr th {\n",
              "        vertical-align: top;\n",
              "    }\n",
              "\n",
              "    .dataframe thead th {\n",
              "        text-align: right;\n",
              "    }\n",
              "</style>\n",
              "<table border=\"1\" class=\"dataframe\">\n",
              "  <thead>\n",
              "    <tr style=\"text-align: right;\">\n",
              "      <th></th>\n",
              "      <th>mid</th>\n",
              "      <th>runs</th>\n",
              "      <th>wickets</th>\n",
              "      <th>overs</th>\n",
              "      <th>runs_last_5</th>\n",
              "      <th>wickets_last_5</th>\n",
              "      <th>striker</th>\n",
              "      <th>non-striker</th>\n",
              "      <th>total</th>\n",
              "    </tr>\n",
              "  </thead>\n",
              "  <tbody>\n",
              "    <tr>\n",
              "      <th>count</th>\n",
              "      <td>76014.000000</td>\n",
              "      <td>76014.000000</td>\n",
              "      <td>76014.000000</td>\n",
              "      <td>76014.000000</td>\n",
              "      <td>76014.000000</td>\n",
              "      <td>76014.000000</td>\n",
              "      <td>76014.000000</td>\n",
              "      <td>76014.000000</td>\n",
              "      <td>76014.000000</td>\n",
              "    </tr>\n",
              "    <tr>\n",
              "      <th>mean</th>\n",
              "      <td>308.627740</td>\n",
              "      <td>74.889349</td>\n",
              "      <td>2.415844</td>\n",
              "      <td>9.783068</td>\n",
              "      <td>33.216434</td>\n",
              "      <td>1.120307</td>\n",
              "      <td>24.962283</td>\n",
              "      <td>8.869287</td>\n",
              "      <td>160.901452</td>\n",
              "    </tr>\n",
              "    <tr>\n",
              "      <th>std</th>\n",
              "      <td>178.156878</td>\n",
              "      <td>48.823327</td>\n",
              "      <td>2.015207</td>\n",
              "      <td>5.772587</td>\n",
              "      <td>14.914174</td>\n",
              "      <td>1.053343</td>\n",
              "      <td>20.079752</td>\n",
              "      <td>10.795742</td>\n",
              "      <td>29.246231</td>\n",
              "    </tr>\n",
              "    <tr>\n",
              "      <th>min</th>\n",
              "      <td>1.000000</td>\n",
              "      <td>0.000000</td>\n",
              "      <td>0.000000</td>\n",
              "      <td>0.000000</td>\n",
              "      <td>0.000000</td>\n",
              "      <td>0.000000</td>\n",
              "      <td>0.000000</td>\n",
              "      <td>0.000000</td>\n",
              "      <td>67.000000</td>\n",
              "    </tr>\n",
              "    <tr>\n",
              "      <th>25%</th>\n",
              "      <td>154.000000</td>\n",
              "      <td>34.000000</td>\n",
              "      <td>1.000000</td>\n",
              "      <td>4.600000</td>\n",
              "      <td>24.000000</td>\n",
              "      <td>0.000000</td>\n",
              "      <td>10.000000</td>\n",
              "      <td>1.000000</td>\n",
              "      <td>142.000000</td>\n",
              "    </tr>\n",
              "    <tr>\n",
              "      <th>50%</th>\n",
              "      <td>308.000000</td>\n",
              "      <td>70.000000</td>\n",
              "      <td>2.000000</td>\n",
              "      <td>9.600000</td>\n",
              "      <td>34.000000</td>\n",
              "      <td>1.000000</td>\n",
              "      <td>20.000000</td>\n",
              "      <td>5.000000</td>\n",
              "      <td>162.000000</td>\n",
              "    </tr>\n",
              "    <tr>\n",
              "      <th>75%</th>\n",
              "      <td>463.000000</td>\n",
              "      <td>111.000000</td>\n",
              "      <td>4.000000</td>\n",
              "      <td>14.600000</td>\n",
              "      <td>43.000000</td>\n",
              "      <td>2.000000</td>\n",
              "      <td>35.000000</td>\n",
              "      <td>13.000000</td>\n",
              "      <td>181.000000</td>\n",
              "    </tr>\n",
              "    <tr>\n",
              "      <th>max</th>\n",
              "      <td>617.000000</td>\n",
              "      <td>263.000000</td>\n",
              "      <td>10.000000</td>\n",
              "      <td>19.600000</td>\n",
              "      <td>113.000000</td>\n",
              "      <td>7.000000</td>\n",
              "      <td>175.000000</td>\n",
              "      <td>109.000000</td>\n",
              "      <td>263.000000</td>\n",
              "    </tr>\n",
              "  </tbody>\n",
              "</table>\n",
              "</div>"
            ],
            "text/plain": [
              "                mid          runs       wickets         overs   runs_last_5  \\\n",
              "count  76014.000000  76014.000000  76014.000000  76014.000000  76014.000000   \n",
              "mean     308.627740     74.889349      2.415844      9.783068     33.216434   \n",
              "std      178.156878     48.823327      2.015207      5.772587     14.914174   \n",
              "min        1.000000      0.000000      0.000000      0.000000      0.000000   \n",
              "25%      154.000000     34.000000      1.000000      4.600000     24.000000   \n",
              "50%      308.000000     70.000000      2.000000      9.600000     34.000000   \n",
              "75%      463.000000    111.000000      4.000000     14.600000     43.000000   \n",
              "max      617.000000    263.000000     10.000000     19.600000    113.000000   \n",
              "\n",
              "       wickets_last_5       striker   non-striker         total  \n",
              "count    76014.000000  76014.000000  76014.000000  76014.000000  \n",
              "mean         1.120307     24.962283      8.869287    160.901452  \n",
              "std          1.053343     20.079752     10.795742     29.246231  \n",
              "min          0.000000      0.000000      0.000000     67.000000  \n",
              "25%          0.000000     10.000000      1.000000    142.000000  \n",
              "50%          1.000000     20.000000      5.000000    162.000000  \n",
              "75%          2.000000     35.000000     13.000000    181.000000  \n",
              "max          7.000000    175.000000    109.000000    263.000000  "
            ]
          },
          "execution_count": 42,
          "metadata": {},
          "output_type": "execute_result"
        }
      ],
      "source": [
        "df.describe()"
      ]
    },
    {
      "cell_type": "code",
      "execution_count": 43,
      "metadata": {
        "colab": {
          "base_uri": "https://localhost:8080/"
        },
        "id": "QGKKn1SRsVRm",
        "outputId": "73f8eb7f-b191-435c-bf6e-03d2a71cffa0"
      },
      "outputs": [
        {
          "data": {
            "text/plain": [
              "np.int64(0)"
            ]
          },
          "execution_count": 43,
          "metadata": {},
          "output_type": "execute_result"
        }
      ],
      "source": [
        "df.duplicated().sum()"
      ]
    },
    {
      "cell_type": "code",
      "execution_count": 44,
      "metadata": {
        "colab": {
          "base_uri": "https://localhost:8080/"
        },
        "id": "0Bi5_z3vsVPf",
        "outputId": "be3a5b04-487c-40c4-b3b9-a45218554099"
      },
      "outputs": [
        {
          "data": {
            "text/plain": [
              "mid               0\n",
              "date              0\n",
              "venue             0\n",
              "bat_team          0\n",
              "bowl_team         0\n",
              "batsman           0\n",
              "bowler            0\n",
              "runs              0\n",
              "wickets           0\n",
              "overs             0\n",
              "runs_last_5       0\n",
              "wickets_last_5    0\n",
              "striker           0\n",
              "non-striker       0\n",
              "total             0\n",
              "dtype: int64"
            ]
          },
          "execution_count": 44,
          "metadata": {},
          "output_type": "execute_result"
        }
      ],
      "source": [
        "df.isnull().sum()"
      ]
    },
    {
      "cell_type": "markdown",
      "metadata": {
        "id": "BpGCXcwcvI3X"
      },
      "source": [
        "### **Data Cleaning**"
      ]
    },
    {
      "cell_type": "code",
      "execution_count": 45,
      "metadata": {
        "id": "ZVAQZupUsVNB"
      },
      "outputs": [],
      "source": [
        "ipl_df = df.copy()"
      ]
    },
    {
      "cell_type": "code",
      "execution_count": 46,
      "metadata": {
        "colab": {
          "base_uri": "https://localhost:8080/",
          "height": 354
        },
        "id": "JmRs_nMJsVFV",
        "outputId": "bf4a075a-d4ec-4cfa-bede-c5675a882c6c"
      },
      "outputs": [
        {
          "data": {
            "text/html": [
              "<div>\n",
              "<style scoped>\n",
              "    .dataframe tbody tr th:only-of-type {\n",
              "        vertical-align: middle;\n",
              "    }\n",
              "\n",
              "    .dataframe tbody tr th {\n",
              "        vertical-align: top;\n",
              "    }\n",
              "\n",
              "    .dataframe thead th {\n",
              "        text-align: right;\n",
              "    }\n",
              "</style>\n",
              "<table border=\"1\" class=\"dataframe\">\n",
              "  <thead>\n",
              "    <tr style=\"text-align: right;\">\n",
              "      <th></th>\n",
              "      <th>mid</th>\n",
              "      <th>date</th>\n",
              "      <th>venue</th>\n",
              "      <th>bat_team</th>\n",
              "      <th>bowl_team</th>\n",
              "      <th>batsman</th>\n",
              "      <th>bowler</th>\n",
              "      <th>runs</th>\n",
              "      <th>wickets</th>\n",
              "      <th>overs</th>\n",
              "      <th>runs_last_5</th>\n",
              "      <th>wickets_last_5</th>\n",
              "      <th>striker</th>\n",
              "      <th>non-striker</th>\n",
              "      <th>total</th>\n",
              "    </tr>\n",
              "  </thead>\n",
              "  <tbody>\n",
              "    <tr>\n",
              "      <th>36555</th>\n",
              "      <td>297</td>\n",
              "      <td>2012-05-13</td>\n",
              "      <td>Sawai Mansingh Stadium</td>\n",
              "      <td>Rajasthan Royals</td>\n",
              "      <td>Pune Warriors</td>\n",
              "      <td>R Dravid</td>\n",
              "      <td>M Kartik</td>\n",
              "      <td>8</td>\n",
              "      <td>0</td>\n",
              "      <td>0.6</td>\n",
              "      <td>8</td>\n",
              "      <td>0</td>\n",
              "      <td>6</td>\n",
              "      <td>0</td>\n",
              "      <td>170</td>\n",
              "    </tr>\n",
              "    <tr>\n",
              "      <th>34997</th>\n",
              "      <td>284</td>\n",
              "      <td>2012-05-04</td>\n",
              "      <td>MA Chidambaram Stadium, Chepauk</td>\n",
              "      <td>Chennai Super Kings</td>\n",
              "      <td>Deccan Chargers</td>\n",
              "      <td>MS Dhoni</td>\n",
              "      <td>Ankit Sharma</td>\n",
              "      <td>85</td>\n",
              "      <td>2</td>\n",
              "      <td>10.2</td>\n",
              "      <td>35</td>\n",
              "      <td>1</td>\n",
              "      <td>30</td>\n",
              "      <td>4</td>\n",
              "      <td>160</td>\n",
              "    </tr>\n",
              "    <tr>\n",
              "      <th>141</th>\n",
              "      <td>2</td>\n",
              "      <td>2008-04-19</td>\n",
              "      <td>Punjab Cricket Association Stadium, Mohali</td>\n",
              "      <td>Chennai Super Kings</td>\n",
              "      <td>Kings XI Punjab</td>\n",
              "      <td>PA Patel</td>\n",
              "      <td>B Lee</td>\n",
              "      <td>26</td>\n",
              "      <td>1</td>\n",
              "      <td>2.4</td>\n",
              "      <td>26</td>\n",
              "      <td>1</td>\n",
              "      <td>15</td>\n",
              "      <td>9</td>\n",
              "      <td>240</td>\n",
              "    </tr>\n",
              "    <tr>\n",
              "      <th>34402</th>\n",
              "      <td>279</td>\n",
              "      <td>2012-04-30</td>\n",
              "      <td>MA Chidambaram Stadium, Chepauk</td>\n",
              "      <td>Chennai Super Kings</td>\n",
              "      <td>Kolkata Knight Riders</td>\n",
              "      <td>RA Jadeja</td>\n",
              "      <td>Iqbal Abdulla</td>\n",
              "      <td>89</td>\n",
              "      <td>4</td>\n",
              "      <td>13.1</td>\n",
              "      <td>24</td>\n",
              "      <td>2</td>\n",
              "      <td>8</td>\n",
              "      <td>1</td>\n",
              "      <td>139</td>\n",
              "    </tr>\n",
              "    <tr>\n",
              "      <th>48732</th>\n",
              "      <td>396</td>\n",
              "      <td>2014-04-20</td>\n",
              "      <td>Sharjah Cricket Stadium</td>\n",
              "      <td>Rajasthan Royals</td>\n",
              "      <td>Kings XI Punjab</td>\n",
              "      <td>AM Rahane</td>\n",
              "      <td>AR Patel</td>\n",
              "      <td>1</td>\n",
              "      <td>0</td>\n",
              "      <td>0.4</td>\n",
              "      <td>1</td>\n",
              "      <td>0</td>\n",
              "      <td>1</td>\n",
              "      <td>0</td>\n",
              "      <td>191</td>\n",
              "    </tr>\n",
              "  </tbody>\n",
              "</table>\n",
              "</div>"
            ],
            "text/plain": [
              "       mid        date                                       venue  \\\n",
              "36555  297  2012-05-13                      Sawai Mansingh Stadium   \n",
              "34997  284  2012-05-04             MA Chidambaram Stadium, Chepauk   \n",
              "141      2  2008-04-19  Punjab Cricket Association Stadium, Mohali   \n",
              "34402  279  2012-04-30             MA Chidambaram Stadium, Chepauk   \n",
              "48732  396  2014-04-20                     Sharjah Cricket Stadium   \n",
              "\n",
              "                  bat_team              bowl_team    batsman         bowler  \\\n",
              "36555     Rajasthan Royals          Pune Warriors   R Dravid       M Kartik   \n",
              "34997  Chennai Super Kings        Deccan Chargers   MS Dhoni   Ankit Sharma   \n",
              "141    Chennai Super Kings        Kings XI Punjab   PA Patel          B Lee   \n",
              "34402  Chennai Super Kings  Kolkata Knight Riders  RA Jadeja  Iqbal Abdulla   \n",
              "48732     Rajasthan Royals        Kings XI Punjab  AM Rahane       AR Patel   \n",
              "\n",
              "       runs  wickets  overs  runs_last_5  wickets_last_5  striker  \\\n",
              "36555     8        0    0.6            8               0        6   \n",
              "34997    85        2   10.2           35               1       30   \n",
              "141      26        1    2.4           26               1       15   \n",
              "34402    89        4   13.1           24               2        8   \n",
              "48732     1        0    0.4            1               0        1   \n",
              "\n",
              "       non-striker  total  \n",
              "36555            0    170  \n",
              "34997            4    160  \n",
              "141              9    240  \n",
              "34402            1    139  \n",
              "48732            0    191  "
            ]
          },
          "execution_count": 46,
          "metadata": {},
          "output_type": "execute_result"
        }
      ],
      "source": [
        "ipl_df.sample(5)"
      ]
    },
    {
      "cell_type": "code",
      "execution_count": 47,
      "metadata": {
        "id": "jxL9ZL8AsVC5"
      },
      "outputs": [],
      "source": [
        "# Removing unwanted columns\n",
        "\n",
        "columns_to_remove = ['mid', 'venue', 'batsman', 'bowler', 'striker', 'non-striker']\n",
        "ipl_df.drop(labels=columns_to_remove, axis=1, inplace=True)"
      ]
    },
    {
      "cell_type": "code",
      "execution_count": 48,
      "metadata": {
        "colab": {
          "base_uri": "https://localhost:8080/",
          "height": 206
        },
        "id": "4Js0vXu5sVAc",
        "outputId": "82b30ddd-a7d3-4752-9f9e-f43c596be3eb"
      },
      "outputs": [
        {
          "data": {
            "text/html": [
              "<div>\n",
              "<style scoped>\n",
              "    .dataframe tbody tr th:only-of-type {\n",
              "        vertical-align: middle;\n",
              "    }\n",
              "\n",
              "    .dataframe tbody tr th {\n",
              "        vertical-align: top;\n",
              "    }\n",
              "\n",
              "    .dataframe thead th {\n",
              "        text-align: right;\n",
              "    }\n",
              "</style>\n",
              "<table border=\"1\" class=\"dataframe\">\n",
              "  <thead>\n",
              "    <tr style=\"text-align: right;\">\n",
              "      <th></th>\n",
              "      <th>date</th>\n",
              "      <th>bat_team</th>\n",
              "      <th>bowl_team</th>\n",
              "      <th>runs</th>\n",
              "      <th>wickets</th>\n",
              "      <th>overs</th>\n",
              "      <th>runs_last_5</th>\n",
              "      <th>wickets_last_5</th>\n",
              "      <th>total</th>\n",
              "    </tr>\n",
              "  </thead>\n",
              "  <tbody>\n",
              "    <tr>\n",
              "      <th>1182</th>\n",
              "      <td>2008-04-25</td>\n",
              "      <td>Kings XI Punjab</td>\n",
              "      <td>Mumbai Indians</td>\n",
              "      <td>111</td>\n",
              "      <td>3</td>\n",
              "      <td>12.1</td>\n",
              "      <td>37</td>\n",
              "      <td>2</td>\n",
              "      <td>182</td>\n",
              "    </tr>\n",
              "    <tr>\n",
              "      <th>62333</th>\n",
              "      <td>2016-04-12</td>\n",
              "      <td>Royal Challengers Bangalore</td>\n",
              "      <td>Sunrisers Hyderabad</td>\n",
              "      <td>44</td>\n",
              "      <td>1</td>\n",
              "      <td>5.2</td>\n",
              "      <td>43</td>\n",
              "      <td>1</td>\n",
              "      <td>227</td>\n",
              "    </tr>\n",
              "    <tr>\n",
              "      <th>30383</th>\n",
              "      <td>2012-04-08</td>\n",
              "      <td>Pune Warriors</td>\n",
              "      <td>Kings XI Punjab</td>\n",
              "      <td>1</td>\n",
              "      <td>0</td>\n",
              "      <td>0.1</td>\n",
              "      <td>1</td>\n",
              "      <td>0</td>\n",
              "      <td>166</td>\n",
              "    </tr>\n",
              "    <tr>\n",
              "      <th>41905</th>\n",
              "      <td>2013-04-21</td>\n",
              "      <td>Mumbai Indians</td>\n",
              "      <td>Delhi Daredevils</td>\n",
              "      <td>45</td>\n",
              "      <td>2</td>\n",
              "      <td>8.2</td>\n",
              "      <td>34</td>\n",
              "      <td>1</td>\n",
              "      <td>161</td>\n",
              "    </tr>\n",
              "    <tr>\n",
              "      <th>44645</th>\n",
              "      <td>2013-05-05</td>\n",
              "      <td>Mumbai Indians</td>\n",
              "      <td>Chennai Super Kings</td>\n",
              "      <td>47</td>\n",
              "      <td>3</td>\n",
              "      <td>10.1</td>\n",
              "      <td>26</td>\n",
              "      <td>3</td>\n",
              "      <td>139</td>\n",
              "    </tr>\n",
              "  </tbody>\n",
              "</table>\n",
              "</div>"
            ],
            "text/plain": [
              "             date                     bat_team            bowl_team  runs  \\\n",
              "1182   2008-04-25              Kings XI Punjab       Mumbai Indians   111   \n",
              "62333  2016-04-12  Royal Challengers Bangalore  Sunrisers Hyderabad    44   \n",
              "30383  2012-04-08                Pune Warriors      Kings XI Punjab     1   \n",
              "41905  2013-04-21               Mumbai Indians     Delhi Daredevils    45   \n",
              "44645  2013-05-05               Mumbai Indians  Chennai Super Kings    47   \n",
              "\n",
              "       wickets  overs  runs_last_5  wickets_last_5  total  \n",
              "1182         3   12.1           37               2    182  \n",
              "62333        1    5.2           43               1    227  \n",
              "30383        0    0.1            1               0    166  \n",
              "41905        2    8.2           34               1    161  \n",
              "44645        3   10.1           26               3    139  "
            ]
          },
          "execution_count": 48,
          "metadata": {},
          "output_type": "execute_result"
        }
      ],
      "source": [
        "ipl_df.sample(5)"
      ]
    },
    {
      "cell_type": "code",
      "execution_count": 49,
      "metadata": {
        "colab": {
          "base_uri": "https://localhost:8080/"
        },
        "id": "Q57VtlZisU-V",
        "outputId": "fea23b4d-3e16-4e98-9dbf-31ac2e389576"
      },
      "outputs": [
        {
          "data": {
            "text/plain": [
              "array(['Kolkata Knight Riders', 'Chennai Super Kings', 'Rajasthan Royals',\n",
              "       'Mumbai Indians', 'Deccan Chargers', 'Kings XI Punjab',\n",
              "       'Royal Challengers Bangalore', 'Delhi Daredevils',\n",
              "       'Kochi Tuskers Kerala', 'Pune Warriors', 'Sunrisers Hyderabad',\n",
              "       'Rising Pune Supergiants', 'Gujarat Lions',\n",
              "       'Rising Pune Supergiant'], dtype=object)"
            ]
          },
          "execution_count": 49,
          "metadata": {},
          "output_type": "execute_result"
        }
      ],
      "source": [
        "ipl_df['bat_team'].unique()"
      ]
    },
    {
      "cell_type": "code",
      "execution_count": 50,
      "metadata": {
        "id": "U_oTAXR_sU7z"
      },
      "outputs": [],
      "source": [
        "# Keeping only consistent teams\n",
        "consistent_teams = ['Kolkata Knight Riders', 'Chennai Super Kings', 'Rajasthan Royals',\n",
        "                    'Mumbai Indians', 'Kings XI Punjab', 'Royal Challengers Bangalore',\n",
        "                    'Delhi Daredevils', 'Sunrisers Hyderabad']"
      ]
    },
    {
      "cell_type": "code",
      "execution_count": 51,
      "metadata": {
        "id": "jgLkPENRsU5X"
      },
      "outputs": [],
      "source": [
        "ipl_df = ipl_df[(ipl_df['bat_team'].isin(consistent_teams)) & (ipl_df['bowl_team'].isin(consistent_teams))]"
      ]
    },
    {
      "cell_type": "code",
      "execution_count": 52,
      "metadata": {
        "id": "2ll3u3hmsU28"
      },
      "outputs": [],
      "source": [
        "# Removing the first 5 overs data in every match\n",
        "ipl_df = ipl_df[ipl_df['overs']>=5.0]"
      ]
    },
    {
      "cell_type": "code",
      "execution_count": 53,
      "metadata": {
        "colab": {
          "base_uri": "https://localhost:8080/"
        },
        "id": "AEg1g3s2sU0y",
        "outputId": "67afe4ee-70f7-497b-e364-d171ceba182a"
      },
      "outputs": [
        {
          "data": {
            "text/plain": [
              "(40108, 9)"
            ]
          },
          "execution_count": 53,
          "metadata": {},
          "output_type": "execute_result"
        }
      ],
      "source": [
        "ipl_df.shape"
      ]
    },
    {
      "cell_type": "code",
      "execution_count": 54,
      "metadata": {
        "id": "EMoE559CsUyd"
      },
      "outputs": [],
      "source": [
        "# Converting the column 'date' from string into datetime object\n",
        "\n",
        "ipl_df['date']= pd.to_datetime(ipl_df['date'])"
      ]
    },
    {
      "cell_type": "code",
      "execution_count": 55,
      "metadata": {
        "id": "z3_PgsamhATS"
      },
      "outputs": [],
      "source": [
        "ipl_df['crr'] =ipl_df['runs']/ipl_df['overs']"
      ]
    },
    {
      "cell_type": "code",
      "execution_count": 56,
      "metadata": {
        "id": "IeazTF2_jSoK"
      },
      "outputs": [],
      "source": [
        "# Split the 'overs' column into its integer and decimal parts\n",
        "overs_int = ipl_df['overs'].apply(lambda x: int(x))\n",
        "overs_dec = ipl_df['overs'].apply(lambda x: float('0.' + str(x).split('.')[1]))\n",
        "\n",
        "# Calculate the number of balls left in each over\n",
        "balls_left = (20 - overs_int - 1) * 6 + (6 - ((overs_dec * 10) % 10 + 1))\n",
        "\n",
        "# Add the 'balls left' column to the DataFrame\n",
        "ipl_df['balls_left'] = balls_left.astype(int)"
      ]
    },
    {
      "cell_type": "code",
      "execution_count": 57,
      "metadata": {
        "id": "ugnVD-ZelpQz"
      },
      "outputs": [],
      "source": [
        "ipl_df['wickets_left'] = 10-ipl_df['wickets']"
      ]
    },
    {
      "cell_type": "code",
      "execution_count": 58,
      "metadata": {
        "id": "JqAgp8FgjhH8"
      },
      "outputs": [],
      "source": [
        "ipl_df.reset_index(drop=True, inplace=True)"
      ]
    },
    {
      "cell_type": "code",
      "execution_count": 59,
      "metadata": {
        "colab": {
          "base_uri": "https://localhost:8080/",
          "height": 423
        },
        "id": "X_6NbFZKS5fA",
        "outputId": "3146bc9d-f298-49f5-f4d0-206c18b64549"
      },
      "outputs": [
        {
          "data": {
            "text/html": [
              "<div>\n",
              "<style scoped>\n",
              "    .dataframe tbody tr th:only-of-type {\n",
              "        vertical-align: middle;\n",
              "    }\n",
              "\n",
              "    .dataframe tbody tr th {\n",
              "        vertical-align: top;\n",
              "    }\n",
              "\n",
              "    .dataframe thead th {\n",
              "        text-align: right;\n",
              "    }\n",
              "</style>\n",
              "<table border=\"1\" class=\"dataframe\">\n",
              "  <thead>\n",
              "    <tr style=\"text-align: right;\">\n",
              "      <th></th>\n",
              "      <th>date</th>\n",
              "      <th>bat_team</th>\n",
              "      <th>bowl_team</th>\n",
              "      <th>runs</th>\n",
              "      <th>wickets</th>\n",
              "      <th>overs</th>\n",
              "      <th>runs_last_5</th>\n",
              "      <th>wickets_last_5</th>\n",
              "      <th>total</th>\n",
              "      <th>crr</th>\n",
              "      <th>balls_left</th>\n",
              "      <th>wickets_left</th>\n",
              "    </tr>\n",
              "  </thead>\n",
              "  <tbody>\n",
              "    <tr>\n",
              "      <th>0</th>\n",
              "      <td>2008-04-18</td>\n",
              "      <td>Kolkata Knight Riders</td>\n",
              "      <td>Royal Challengers Bangalore</td>\n",
              "      <td>61</td>\n",
              "      <td>0</td>\n",
              "      <td>5.1</td>\n",
              "      <td>59</td>\n",
              "      <td>0</td>\n",
              "      <td>222</td>\n",
              "      <td>11.960784</td>\n",
              "      <td>88</td>\n",
              "      <td>10</td>\n",
              "    </tr>\n",
              "    <tr>\n",
              "      <th>1</th>\n",
              "      <td>2008-04-18</td>\n",
              "      <td>Kolkata Knight Riders</td>\n",
              "      <td>Royal Challengers Bangalore</td>\n",
              "      <td>61</td>\n",
              "      <td>1</td>\n",
              "      <td>5.2</td>\n",
              "      <td>59</td>\n",
              "      <td>1</td>\n",
              "      <td>222</td>\n",
              "      <td>11.730769</td>\n",
              "      <td>87</td>\n",
              "      <td>9</td>\n",
              "    </tr>\n",
              "    <tr>\n",
              "      <th>2</th>\n",
              "      <td>2008-04-18</td>\n",
              "      <td>Kolkata Knight Riders</td>\n",
              "      <td>Royal Challengers Bangalore</td>\n",
              "      <td>61</td>\n",
              "      <td>1</td>\n",
              "      <td>5.3</td>\n",
              "      <td>59</td>\n",
              "      <td>1</td>\n",
              "      <td>222</td>\n",
              "      <td>11.509434</td>\n",
              "      <td>86</td>\n",
              "      <td>9</td>\n",
              "    </tr>\n",
              "    <tr>\n",
              "      <th>3</th>\n",
              "      <td>2008-04-18</td>\n",
              "      <td>Kolkata Knight Riders</td>\n",
              "      <td>Royal Challengers Bangalore</td>\n",
              "      <td>61</td>\n",
              "      <td>1</td>\n",
              "      <td>5.4</td>\n",
              "      <td>59</td>\n",
              "      <td>1</td>\n",
              "      <td>222</td>\n",
              "      <td>11.296296</td>\n",
              "      <td>85</td>\n",
              "      <td>9</td>\n",
              "    </tr>\n",
              "    <tr>\n",
              "      <th>4</th>\n",
              "      <td>2008-04-18</td>\n",
              "      <td>Kolkata Knight Riders</td>\n",
              "      <td>Royal Challengers Bangalore</td>\n",
              "      <td>61</td>\n",
              "      <td>1</td>\n",
              "      <td>5.5</td>\n",
              "      <td>58</td>\n",
              "      <td>1</td>\n",
              "      <td>222</td>\n",
              "      <td>11.090909</td>\n",
              "      <td>84</td>\n",
              "      <td>9</td>\n",
              "    </tr>\n",
              "    <tr>\n",
              "      <th>...</th>\n",
              "      <td>...</td>\n",
              "      <td>...</td>\n",
              "      <td>...</td>\n",
              "      <td>...</td>\n",
              "      <td>...</td>\n",
              "      <td>...</td>\n",
              "      <td>...</td>\n",
              "      <td>...</td>\n",
              "      <td>...</td>\n",
              "      <td>...</td>\n",
              "      <td>...</td>\n",
              "      <td>...</td>\n",
              "    </tr>\n",
              "    <tr>\n",
              "      <th>40103</th>\n",
              "      <td>2017-05-19</td>\n",
              "      <td>Kolkata Knight Riders</td>\n",
              "      <td>Mumbai Indians</td>\n",
              "      <td>106</td>\n",
              "      <td>9</td>\n",
              "      <td>18.1</td>\n",
              "      <td>29</td>\n",
              "      <td>4</td>\n",
              "      <td>107</td>\n",
              "      <td>5.856354</td>\n",
              "      <td>10</td>\n",
              "      <td>1</td>\n",
              "    </tr>\n",
              "    <tr>\n",
              "      <th>40104</th>\n",
              "      <td>2017-05-19</td>\n",
              "      <td>Kolkata Knight Riders</td>\n",
              "      <td>Mumbai Indians</td>\n",
              "      <td>107</td>\n",
              "      <td>9</td>\n",
              "      <td>18.2</td>\n",
              "      <td>29</td>\n",
              "      <td>4</td>\n",
              "      <td>107</td>\n",
              "      <td>5.879121</td>\n",
              "      <td>9</td>\n",
              "      <td>1</td>\n",
              "    </tr>\n",
              "    <tr>\n",
              "      <th>40105</th>\n",
              "      <td>2017-05-19</td>\n",
              "      <td>Kolkata Knight Riders</td>\n",
              "      <td>Mumbai Indians</td>\n",
              "      <td>107</td>\n",
              "      <td>9</td>\n",
              "      <td>18.3</td>\n",
              "      <td>28</td>\n",
              "      <td>4</td>\n",
              "      <td>107</td>\n",
              "      <td>5.846995</td>\n",
              "      <td>8</td>\n",
              "      <td>1</td>\n",
              "    </tr>\n",
              "    <tr>\n",
              "      <th>40106</th>\n",
              "      <td>2017-05-19</td>\n",
              "      <td>Kolkata Knight Riders</td>\n",
              "      <td>Mumbai Indians</td>\n",
              "      <td>107</td>\n",
              "      <td>9</td>\n",
              "      <td>18.4</td>\n",
              "      <td>24</td>\n",
              "      <td>4</td>\n",
              "      <td>107</td>\n",
              "      <td>5.815217</td>\n",
              "      <td>7</td>\n",
              "      <td>1</td>\n",
              "    </tr>\n",
              "    <tr>\n",
              "      <th>40107</th>\n",
              "      <td>2017-05-19</td>\n",
              "      <td>Kolkata Knight Riders</td>\n",
              "      <td>Mumbai Indians</td>\n",
              "      <td>107</td>\n",
              "      <td>10</td>\n",
              "      <td>18.5</td>\n",
              "      <td>23</td>\n",
              "      <td>5</td>\n",
              "      <td>107</td>\n",
              "      <td>5.783784</td>\n",
              "      <td>6</td>\n",
              "      <td>0</td>\n",
              "    </tr>\n",
              "  </tbody>\n",
              "</table>\n",
              "<p>40108 rows × 12 columns</p>\n",
              "</div>"
            ],
            "text/plain": [
              "            date               bat_team                    bowl_team  runs  \\\n",
              "0     2008-04-18  Kolkata Knight Riders  Royal Challengers Bangalore    61   \n",
              "1     2008-04-18  Kolkata Knight Riders  Royal Challengers Bangalore    61   \n",
              "2     2008-04-18  Kolkata Knight Riders  Royal Challengers Bangalore    61   \n",
              "3     2008-04-18  Kolkata Knight Riders  Royal Challengers Bangalore    61   \n",
              "4     2008-04-18  Kolkata Knight Riders  Royal Challengers Bangalore    61   \n",
              "...          ...                    ...                          ...   ...   \n",
              "40103 2017-05-19  Kolkata Knight Riders               Mumbai Indians   106   \n",
              "40104 2017-05-19  Kolkata Knight Riders               Mumbai Indians   107   \n",
              "40105 2017-05-19  Kolkata Knight Riders               Mumbai Indians   107   \n",
              "40106 2017-05-19  Kolkata Knight Riders               Mumbai Indians   107   \n",
              "40107 2017-05-19  Kolkata Knight Riders               Mumbai Indians   107   \n",
              "\n",
              "       wickets  overs  runs_last_5  wickets_last_5  total        crr  \\\n",
              "0            0    5.1           59               0    222  11.960784   \n",
              "1            1    5.2           59               1    222  11.730769   \n",
              "2            1    5.3           59               1    222  11.509434   \n",
              "3            1    5.4           59               1    222  11.296296   \n",
              "4            1    5.5           58               1    222  11.090909   \n",
              "...        ...    ...          ...             ...    ...        ...   \n",
              "40103        9   18.1           29               4    107   5.856354   \n",
              "40104        9   18.2           29               4    107   5.879121   \n",
              "40105        9   18.3           28               4    107   5.846995   \n",
              "40106        9   18.4           24               4    107   5.815217   \n",
              "40107       10   18.5           23               5    107   5.783784   \n",
              "\n",
              "       balls_left  wickets_left  \n",
              "0              88            10  \n",
              "1              87             9  \n",
              "2              86             9  \n",
              "3              85             9  \n",
              "4              84             9  \n",
              "...           ...           ...  \n",
              "40103          10             1  \n",
              "40104           9             1  \n",
              "40105           8             1  \n",
              "40106           7             1  \n",
              "40107           6             0  \n",
              "\n",
              "[40108 rows x 12 columns]"
            ]
          },
          "execution_count": 59,
          "metadata": {},
          "output_type": "execute_result"
        }
      ],
      "source": [
        "ipl_df"
      ]
    },
    {
      "cell_type": "code",
      "execution_count": 60,
      "metadata": {
        "colab": {
          "base_uri": "https://localhost:8080/"
        },
        "id": "xnFbLmeosUwV",
        "outputId": "2008b39b-aa2a-4cec-8fd9-29ab451d2d29"
      },
      "outputs": [
        {
          "name": "stdout",
          "output_type": "stream",
          "text": [
            "<class 'pandas.core.frame.DataFrame'>\n",
            "RangeIndex: 40108 entries, 0 to 40107\n",
            "Data columns (total 12 columns):\n",
            " #   Column          Non-Null Count  Dtype         \n",
            "---  ------          --------------  -----         \n",
            " 0   date            40108 non-null  datetime64[ns]\n",
            " 1   bat_team        40108 non-null  object        \n",
            " 2   bowl_team       40108 non-null  object        \n",
            " 3   runs            40108 non-null  int64         \n",
            " 4   wickets         40108 non-null  int64         \n",
            " 5   overs           40108 non-null  float64       \n",
            " 6   runs_last_5     40108 non-null  int64         \n",
            " 7   wickets_last_5  40108 non-null  int64         \n",
            " 8   total           40108 non-null  int64         \n",
            " 9   crr             40108 non-null  float64       \n",
            " 10  balls_left      40108 non-null  int64         \n",
            " 11  wickets_left    40108 non-null  int64         \n",
            "dtypes: datetime64[ns](1), float64(2), int64(7), object(2)\n",
            "memory usage: 3.7+ MB\n"
          ]
        }
      ],
      "source": [
        "ipl_df.info()"
      ]
    },
    {
      "cell_type": "markdown",
      "metadata": {
        "id": "1LtCtQQB4vNe"
      },
      "source": [
        "## **pre-processing and model implementation**"
      ]
    },
    {
      "cell_type": "code",
      "execution_count": 61,
      "metadata": {
        "colab": {
          "base_uri": "https://localhost:8080/",
          "height": 206
        },
        "id": "Pll1jNnl-6os",
        "outputId": "8974dd30-6d76-482f-fc2b-9b736f97c3fb"
      },
      "outputs": [
        {
          "data": {
            "text/html": [
              "<div>\n",
              "<style scoped>\n",
              "    .dataframe tbody tr th:only-of-type {\n",
              "        vertical-align: middle;\n",
              "    }\n",
              "\n",
              "    .dataframe tbody tr th {\n",
              "        vertical-align: top;\n",
              "    }\n",
              "\n",
              "    .dataframe thead th {\n",
              "        text-align: right;\n",
              "    }\n",
              "</style>\n",
              "<table border=\"1\" class=\"dataframe\">\n",
              "  <thead>\n",
              "    <tr style=\"text-align: right;\">\n",
              "      <th></th>\n",
              "      <th>date</th>\n",
              "      <th>bat_team</th>\n",
              "      <th>bowl_team</th>\n",
              "      <th>runs</th>\n",
              "      <th>wickets</th>\n",
              "      <th>overs</th>\n",
              "      <th>runs_last_5</th>\n",
              "      <th>wickets_last_5</th>\n",
              "      <th>total</th>\n",
              "      <th>crr</th>\n",
              "      <th>balls_left</th>\n",
              "      <th>wickets_left</th>\n",
              "    </tr>\n",
              "  </thead>\n",
              "  <tbody>\n",
              "    <tr>\n",
              "      <th>0</th>\n",
              "      <td>2008-04-18</td>\n",
              "      <td>Kolkata Knight Riders</td>\n",
              "      <td>Royal Challengers Bangalore</td>\n",
              "      <td>61</td>\n",
              "      <td>0</td>\n",
              "      <td>5.1</td>\n",
              "      <td>59</td>\n",
              "      <td>0</td>\n",
              "      <td>222</td>\n",
              "      <td>11.960784</td>\n",
              "      <td>88</td>\n",
              "      <td>10</td>\n",
              "    </tr>\n",
              "    <tr>\n",
              "      <th>1</th>\n",
              "      <td>2008-04-18</td>\n",
              "      <td>Kolkata Knight Riders</td>\n",
              "      <td>Royal Challengers Bangalore</td>\n",
              "      <td>61</td>\n",
              "      <td>1</td>\n",
              "      <td>5.2</td>\n",
              "      <td>59</td>\n",
              "      <td>1</td>\n",
              "      <td>222</td>\n",
              "      <td>11.730769</td>\n",
              "      <td>87</td>\n",
              "      <td>9</td>\n",
              "    </tr>\n",
              "    <tr>\n",
              "      <th>2</th>\n",
              "      <td>2008-04-18</td>\n",
              "      <td>Kolkata Knight Riders</td>\n",
              "      <td>Royal Challengers Bangalore</td>\n",
              "      <td>61</td>\n",
              "      <td>1</td>\n",
              "      <td>5.3</td>\n",
              "      <td>59</td>\n",
              "      <td>1</td>\n",
              "      <td>222</td>\n",
              "      <td>11.509434</td>\n",
              "      <td>86</td>\n",
              "      <td>9</td>\n",
              "    </tr>\n",
              "    <tr>\n",
              "      <th>3</th>\n",
              "      <td>2008-04-18</td>\n",
              "      <td>Kolkata Knight Riders</td>\n",
              "      <td>Royal Challengers Bangalore</td>\n",
              "      <td>61</td>\n",
              "      <td>1</td>\n",
              "      <td>5.4</td>\n",
              "      <td>59</td>\n",
              "      <td>1</td>\n",
              "      <td>222</td>\n",
              "      <td>11.296296</td>\n",
              "      <td>85</td>\n",
              "      <td>9</td>\n",
              "    </tr>\n",
              "    <tr>\n",
              "      <th>4</th>\n",
              "      <td>2008-04-18</td>\n",
              "      <td>Kolkata Knight Riders</td>\n",
              "      <td>Royal Challengers Bangalore</td>\n",
              "      <td>61</td>\n",
              "      <td>1</td>\n",
              "      <td>5.5</td>\n",
              "      <td>58</td>\n",
              "      <td>1</td>\n",
              "      <td>222</td>\n",
              "      <td>11.090909</td>\n",
              "      <td>84</td>\n",
              "      <td>9</td>\n",
              "    </tr>\n",
              "  </tbody>\n",
              "</table>\n",
              "</div>"
            ],
            "text/plain": [
              "        date               bat_team                    bowl_team  runs  \\\n",
              "0 2008-04-18  Kolkata Knight Riders  Royal Challengers Bangalore    61   \n",
              "1 2008-04-18  Kolkata Knight Riders  Royal Challengers Bangalore    61   \n",
              "2 2008-04-18  Kolkata Knight Riders  Royal Challengers Bangalore    61   \n",
              "3 2008-04-18  Kolkata Knight Riders  Royal Challengers Bangalore    61   \n",
              "4 2008-04-18  Kolkata Knight Riders  Royal Challengers Bangalore    61   \n",
              "\n",
              "   wickets  overs  runs_last_5  wickets_last_5  total        crr  balls_left  \\\n",
              "0        0    5.1           59               0    222  11.960784          88   \n",
              "1        1    5.2           59               1    222  11.730769          87   \n",
              "2        1    5.3           59               1    222  11.509434          86   \n",
              "3        1    5.4           59               1    222  11.296296          85   \n",
              "4        1    5.5           58               1    222  11.090909          84   \n",
              "\n",
              "   wickets_left  \n",
              "0            10  \n",
              "1             9  \n",
              "2             9  \n",
              "3             9  \n",
              "4             9  "
            ]
          },
          "execution_count": 61,
          "metadata": {},
          "output_type": "execute_result"
        }
      ],
      "source": [
        "ipl_df.head()"
      ]
    },
    {
      "cell_type": "code",
      "execution_count": 62,
      "metadata": {
        "id": "bQuux8Vt7URp"
      },
      "outputs": [],
      "source": [
        "# Splitting the data into train and test set\n",
        "\n",
        "X_train = ipl_df.drop(labels='total', axis=1)[ipl_df['date'].dt.year <= 2015]\n",
        "X_test = ipl_df.drop(labels='total', axis=1)[ipl_df['date'].dt.year >= 2016]\n",
        "y_train = ipl_df[ipl_df['date'].dt.year <= 2015]['total'].values\n",
        "y_test = ipl_df[ipl_df['date'].dt.year >= 2016]['total'].values"
      ]
    },
    {
      "cell_type": "code",
      "execution_count": 63,
      "metadata": {
        "id": "dzE62AlWUbLJ"
      },
      "outputs": [],
      "source": [
        "# split the Dataset into independent(x) and dependent(y) Dataset\n",
        "\n",
        "X = ipl_df.drop(columns=['total'])\n",
        "y = ipl_df['total']"
      ]
    },
    {
      "cell_type": "code",
      "execution_count": 64,
      "metadata": {
        "colab": {
          "base_uri": "https://localhost:8080/"
        },
        "id": "7JrxNom7UbH3",
        "outputId": "318cbd15-dd60-4296-d9e2-09e212347f64"
      },
      "outputs": [
        {
          "name": "stdout",
          "output_type": "stream",
          "text": [
            "(32086, 11)\n",
            "(8022, 11)\n"
          ]
        }
      ],
      "source": [
        "# calling train_test_split() to get the training and testing data.\n",
        "\n",
        "from sklearn.model_selection import train_test_split\n",
        "X_train,X_test,y_train,y_test = train_test_split(X,y,test_size=0.2,random_state=0)\n",
        "\n",
        "# split sizes\n",
        "print(X_train.shape)\n",
        "print(X_test.shape)"
      ]
    },
    {
      "cell_type": "code",
      "execution_count": 65,
      "metadata": {
        "id": "sfz11SfmlYx7"
      },
      "outputs": [],
      "source": [
        "# Removing the 'date' column\n",
        "\n",
        "X_train.drop(labels='date', axis=1, inplace=True)\n",
        "X_test.drop(labels='date', axis=1, inplace=True)"
      ]
    },
    {
      "cell_type": "code",
      "execution_count": 66,
      "metadata": {
        "colab": {
          "base_uri": "https://localhost:8080/"
        },
        "id": "B1SNFLAKlYvs",
        "outputId": "89ba33ba-0e0c-4ad0-fc71-817704937b86"
      },
      "outputs": [
        {
          "name": "stdout",
          "output_type": "stream",
          "text": [
            "(32086, 10)\n",
            "(8022, 10)\n"
          ]
        }
      ],
      "source": [
        "# split sizes\n",
        "print(X_train.shape)\n",
        "print(X_test.shape)"
      ]
    },
    {
      "cell_type": "code",
      "execution_count": 67,
      "metadata": {
        "colab": {
          "base_uri": "https://localhost:8080/",
          "height": 206
        },
        "id": "O70CRuif66DF",
        "outputId": "e88ed44f-2e8a-4d1e-a5bb-ac578665e496"
      },
      "outputs": [
        {
          "data": {
            "text/html": [
              "<div>\n",
              "<style scoped>\n",
              "    .dataframe tbody tr th:only-of-type {\n",
              "        vertical-align: middle;\n",
              "    }\n",
              "\n",
              "    .dataframe tbody tr th {\n",
              "        vertical-align: top;\n",
              "    }\n",
              "\n",
              "    .dataframe thead th {\n",
              "        text-align: right;\n",
              "    }\n",
              "</style>\n",
              "<table border=\"1\" class=\"dataframe\">\n",
              "  <thead>\n",
              "    <tr style=\"text-align: right;\">\n",
              "      <th></th>\n",
              "      <th>bat_team</th>\n",
              "      <th>bowl_team</th>\n",
              "      <th>runs</th>\n",
              "      <th>wickets</th>\n",
              "      <th>overs</th>\n",
              "      <th>runs_last_5</th>\n",
              "      <th>wickets_last_5</th>\n",
              "      <th>crr</th>\n",
              "      <th>balls_left</th>\n",
              "      <th>wickets_left</th>\n",
              "    </tr>\n",
              "  </thead>\n",
              "  <tbody>\n",
              "    <tr>\n",
              "      <th>34151</th>\n",
              "      <td>Mumbai Indians</td>\n",
              "      <td>Chennai Super Kings</td>\n",
              "      <td>136</td>\n",
              "      <td>2</td>\n",
              "      <td>15.2</td>\n",
              "      <td>47</td>\n",
              "      <td>2</td>\n",
              "      <td>8.947368</td>\n",
              "      <td>27</td>\n",
              "      <td>8</td>\n",
              "    </tr>\n",
              "    <tr>\n",
              "      <th>15132</th>\n",
              "      <td>Mumbai Indians</td>\n",
              "      <td>Rajasthan Royals</td>\n",
              "      <td>164</td>\n",
              "      <td>4</td>\n",
              "      <td>16.6</td>\n",
              "      <td>68</td>\n",
              "      <td>1</td>\n",
              "      <td>9.879518</td>\n",
              "      <td>17</td>\n",
              "      <td>6</td>\n",
              "    </tr>\n",
              "    <tr>\n",
              "      <th>13576</th>\n",
              "      <td>Chennai Super Kings</td>\n",
              "      <td>Delhi Daredevils</td>\n",
              "      <td>89</td>\n",
              "      <td>3</td>\n",
              "      <td>12.1</td>\n",
              "      <td>46</td>\n",
              "      <td>1</td>\n",
              "      <td>7.355372</td>\n",
              "      <td>46</td>\n",
              "      <td>7</td>\n",
              "    </tr>\n",
              "    <tr>\n",
              "      <th>11954</th>\n",
              "      <td>Rajasthan Royals</td>\n",
              "      <td>Kolkata Knight Riders</td>\n",
              "      <td>124</td>\n",
              "      <td>4</td>\n",
              "      <td>16.4</td>\n",
              "      <td>45</td>\n",
              "      <td>1</td>\n",
              "      <td>7.560976</td>\n",
              "      <td>19</td>\n",
              "      <td>6</td>\n",
              "    </tr>\n",
              "    <tr>\n",
              "      <th>2017</th>\n",
              "      <td>Royal Challengers Bangalore</td>\n",
              "      <td>Mumbai Indians</td>\n",
              "      <td>57</td>\n",
              "      <td>3</td>\n",
              "      <td>10.1</td>\n",
              "      <td>22</td>\n",
              "      <td>3</td>\n",
              "      <td>5.643564</td>\n",
              "      <td>58</td>\n",
              "      <td>7</td>\n",
              "    </tr>\n",
              "  </tbody>\n",
              "</table>\n",
              "</div>"
            ],
            "text/plain": [
              "                          bat_team              bowl_team  runs  wickets  \\\n",
              "34151               Mumbai Indians    Chennai Super Kings   136        2   \n",
              "15132               Mumbai Indians       Rajasthan Royals   164        4   \n",
              "13576          Chennai Super Kings       Delhi Daredevils    89        3   \n",
              "11954             Rajasthan Royals  Kolkata Knight Riders   124        4   \n",
              "2017   Royal Challengers Bangalore         Mumbai Indians    57        3   \n",
              "\n",
              "       overs  runs_last_5  wickets_last_5       crr  balls_left  wickets_left  \n",
              "34151   15.2           47               2  8.947368          27             8  \n",
              "15132   16.6           68               1  9.879518          17             6  \n",
              "13576   12.1           46               1  7.355372          46             7  \n",
              "11954   16.4           45               1  7.560976          19             6  \n",
              "2017    10.1           22               3  5.643564          58             7  "
            ]
          },
          "execution_count": 67,
          "metadata": {},
          "output_type": "execute_result"
        }
      ],
      "source": [
        "X_train.head()"
      ]
    },
    {
      "cell_type": "code",
      "execution_count": 68,
      "metadata": {
        "colab": {
          "base_uri": "https://localhost:8080/",
          "height": 206
        },
        "id": "fvG_hnj3Vno5",
        "outputId": "de2934dc-5848-4e1a-ad62-869073412e29"
      },
      "outputs": [
        {
          "data": {
            "text/html": [
              "<div>\n",
              "<style scoped>\n",
              "    .dataframe tbody tr th:only-of-type {\n",
              "        vertical-align: middle;\n",
              "    }\n",
              "\n",
              "    .dataframe tbody tr th {\n",
              "        vertical-align: top;\n",
              "    }\n",
              "\n",
              "    .dataframe thead th {\n",
              "        text-align: right;\n",
              "    }\n",
              "</style>\n",
              "<table border=\"1\" class=\"dataframe\">\n",
              "  <thead>\n",
              "    <tr style=\"text-align: right;\">\n",
              "      <th></th>\n",
              "      <th>bat_team</th>\n",
              "      <th>bowl_team</th>\n",
              "      <th>runs</th>\n",
              "      <th>wickets</th>\n",
              "      <th>overs</th>\n",
              "      <th>runs_last_5</th>\n",
              "      <th>wickets_last_5</th>\n",
              "      <th>crr</th>\n",
              "      <th>balls_left</th>\n",
              "      <th>wickets_left</th>\n",
              "    </tr>\n",
              "  </thead>\n",
              "  <tbody>\n",
              "    <tr>\n",
              "      <th>22763</th>\n",
              "      <td>Royal Challengers Bangalore</td>\n",
              "      <td>Kolkata Knight Riders</td>\n",
              "      <td>24</td>\n",
              "      <td>1</td>\n",
              "      <td>6.3</td>\n",
              "      <td>20</td>\n",
              "      <td>1</td>\n",
              "      <td>3.809524</td>\n",
              "      <td>80</td>\n",
              "      <td>9</td>\n",
              "    </tr>\n",
              "    <tr>\n",
              "      <th>22840</th>\n",
              "      <td>Royal Challengers Bangalore</td>\n",
              "      <td>Kolkata Knight Riders</td>\n",
              "      <td>111</td>\n",
              "      <td>8</td>\n",
              "      <td>19.2</td>\n",
              "      <td>33</td>\n",
              "      <td>5</td>\n",
              "      <td>5.781250</td>\n",
              "      <td>3</td>\n",
              "      <td>2</td>\n",
              "    </tr>\n",
              "    <tr>\n",
              "      <th>12223</th>\n",
              "      <td>Kings XI Punjab</td>\n",
              "      <td>Rajasthan Royals</td>\n",
              "      <td>195</td>\n",
              "      <td>6</td>\n",
              "      <td>19.5</td>\n",
              "      <td>25</td>\n",
              "      <td>4</td>\n",
              "      <td>10.000000</td>\n",
              "      <td>0</td>\n",
              "      <td>4</td>\n",
              "    </tr>\n",
              "    <tr>\n",
              "      <th>18423</th>\n",
              "      <td>Chennai Super Kings</td>\n",
              "      <td>Delhi Daredevils</td>\n",
              "      <td>64</td>\n",
              "      <td>0</td>\n",
              "      <td>7.2</td>\n",
              "      <td>45</td>\n",
              "      <td>0</td>\n",
              "      <td>8.888889</td>\n",
              "      <td>75</td>\n",
              "      <td>10</td>\n",
              "    </tr>\n",
              "    <tr>\n",
              "      <th>151</th>\n",
              "      <td>Chennai Super Kings</td>\n",
              "      <td>Kings XI Punjab</td>\n",
              "      <td>151</td>\n",
              "      <td>4</td>\n",
              "      <td>14.4</td>\n",
              "      <td>63</td>\n",
              "      <td>1</td>\n",
              "      <td>10.486111</td>\n",
              "      <td>31</td>\n",
              "      <td>6</td>\n",
              "    </tr>\n",
              "  </tbody>\n",
              "</table>\n",
              "</div>"
            ],
            "text/plain": [
              "                          bat_team              bowl_team  runs  wickets  \\\n",
              "22763  Royal Challengers Bangalore  Kolkata Knight Riders    24        1   \n",
              "22840  Royal Challengers Bangalore  Kolkata Knight Riders   111        8   \n",
              "12223              Kings XI Punjab       Rajasthan Royals   195        6   \n",
              "18423          Chennai Super Kings       Delhi Daredevils    64        0   \n",
              "151            Chennai Super Kings        Kings XI Punjab   151        4   \n",
              "\n",
              "       overs  runs_last_5  wickets_last_5        crr  balls_left  wickets_left  \n",
              "22763    6.3           20               1   3.809524          80             9  \n",
              "22840   19.2           33               5   5.781250           3             2  \n",
              "12223   19.5           25               4  10.000000           0             4  \n",
              "18423    7.2           45               0   8.888889          75            10  \n",
              "151     14.4           63               1  10.486111          31             6  "
            ]
          },
          "execution_count": 68,
          "metadata": {},
          "output_type": "execute_result"
        }
      ],
      "source": [
        "X_test.head()"
      ]
    },
    {
      "cell_type": "code",
      "execution_count": 69,
      "metadata": {
        "id": "cOfiRLLI_ZTn"
      },
      "outputs": [],
      "source": [
        "trf = ColumnTransformer([\n",
        "    ('trf',OneHotEncoder(sparse_output=False,drop='first'),[0,1])\n",
        "]\n",
        ",remainder='passthrough')"
      ]
    },
    {
      "cell_type": "markdown",
      "metadata": {
        "id": "a4-l0VhVYcTQ"
      },
      "source": [
        "## **LinearRegression**"
      ]
    },
    {
      "cell_type": "code",
      "execution_count": 70,
      "metadata": {
        "colab": {
          "base_uri": "https://localhost:8080/"
        },
        "id": "5WHxVjHjlYto",
        "outputId": "634bf399-3d06-4e6d-ccad-f43dab704b4a"
      },
      "outputs": [
        {
          "name": "stdout",
          "output_type": "stream",
          "text": [
            "\u001b[1mTraining data R2 and Adjusted R2 Score\u001b[0m\n",
            "\u001b[1m-----------------------------------------\u001b[0m\n",
            "R2 score 0.6628634929898946\n",
            "Adjusted R2 score 0.6627583841802265\n",
            "\n",
            "\n",
            "\u001b[1mTesting data R2 and Adjusted R2 Score\u001b[0m\n",
            "\u001b[1m-----------------------------------------\u001b[0m\n",
            "R2 score 0.6737098030957681\n",
            "Adjusted R2 score 0.673302500390857\n",
            "\n",
            "\n",
            "\u001b[1mThe performance metrics\u001b[0m\n",
            "\u001b[1m-----------------------------------------\u001b[0m\n",
            "MAE 12.79919552059396\n",
            "MSE 295.34685451159174\n",
            "RMSE 17.18565839622072\n"
          ]
        }
      ],
      "source": [
        "pipe1 = Pipeline(steps=[\n",
        "    ('step1',trf),\n",
        "    ('step2',StandardScaler()),\n",
        "    ('step3',LinearRegression())\n",
        "])\n",
        "\n",
        "\n",
        "# fit the pipeline on training dataset\n",
        "pipe1.fit(X_train,y_train)\n",
        "\n",
        "# predict the train and test dataset \n",
        "y_pred_train = pipe1.predict(X_train)\n",
        "y_pred = pipe1.predict(X_test)\n",
        "\n",
        "# LinearRegression model all output scores\n",
        "print('\\033[1mTraining data R2 and Adjusted R2 Score\\033[0m')\n",
        "print('\\033[1m' + '-----------------------------------------' + '\\033[0m')\n",
        "print('R2 score',r2_score(y_train,y_pred_train))\n",
        "print('Adjusted R2 score', (1-(1-r2_score(y_train,y_pred_train))*((X_train.shape[0]-1)/(X_train.shape[0]-X_train.shape[1]-1))))\n",
        "\n",
        "print('\\n')\n",
        "print('\\033[1mTesting data R2 and Adjusted R2 Score\\033[0m')\n",
        "print('\\033[1m' + '-----------------------------------------' + '\\033[0m')\n",
        "print('R2 score',r2_score(y_test,y_pred))\n",
        "print('Adjusted R2 score', (1-(1-r2_score(y_test,y_pred))*((X_test.shape[0]-1)/(X_test.shape[0]-X_test.shape[1]-1))))\n",
        "\n",
        "print('\\n')\n",
        "print('\\033[1mThe performance metrics\\033[0m')\n",
        "print('\\033[1m' + '-----------------------------------------' + '\\033[0m')\n",
        "print('MAE',mean_absolute_error(y_test,y_pred))\n",
        "print('MSE',mean_squared_error(y_test,y_pred))\n",
        "print('RMSE',np.sqrt(mean_squared_error(y_test,y_pred)))"
      ]
    },
    {
      "cell_type": "markdown",
      "metadata": {
        "id": "9WOMnzE8YiC3"
      },
      "source": [
        "## **DecisionTreeRegressor with hyperparameter tuning**"
      ]
    },
    {
      "cell_type": "code",
      "execution_count": 71,
      "metadata": {
        "colab": {
          "base_uri": "https://localhost:8080/"
        },
        "id": "fhrro_MQ82xw",
        "outputId": "10491cd4-99a7-4d6a-cee6-dfc5c21e8c3b"
      },
      "outputs": [
        {
          "name": "stdout",
          "output_type": "stream",
          "text": [
            "\u001b[1mTraining data R2 and Adjusted R2 Score\u001b[0m\n",
            "\u001b[1m-----------------------------------------\u001b[0m\n",
            "R2 score 0.7163238893459634\n",
            "Adjusted R2 score 0.7162354478461492\n",
            "\n",
            "\n",
            "\u001b[1mTesting data R2 and Adjusted R2 Score\u001b[0m\n",
            "\u001b[1m-----------------------------------------\u001b[0m\n",
            "R2 score 0.7212783027325309\n",
            "Adjusted R2 score 0.7209303790060704\n",
            "\n",
            "\n",
            "\u001b[1mCross-validation score and best params\u001b[0m\n",
            "\u001b[1m-----------------------------------------\u001b[0m\n",
            "The best parameters is {'criterion': 'squared_error', 'max_depth': 7, 'max_features': 1.0, 'splitter': 'best'}\n",
            "cross-validation score 0.6954193047824366\n",
            "\n",
            "\n",
            "\u001b[1mThe performance metrics\u001b[0m\n",
            "\u001b[1m-----------------------------------------\u001b[0m\n",
            "MAE 11.747063896702855\n",
            "MSE 252.28945691016395\n",
            "RMSE 15.883622285554512\n"
          ]
        }
      ],
      "source": [
        "# apply DecisionTreeRegressor algorithm with hyperparameter tuning\n",
        "\n",
        "# giving parameters\n",
        "parameters = {\n",
        "    'criterion':['squared_error'],                    # 'friedman_mse', 'absolute_error'\n",
        "    'splitter' :['best'],                             # random\n",
        "    'max_depth' :[7],                                 # 4,5,6,7,8,9,None\n",
        "    'max_features' :[1.0]                             # 0.25,0.50,0.75,0.85\n",
        "}\n",
        "\n",
        "# we use gridsearchCV because the dataset is not that big\n",
        "dtr = GridSearchCV(DecisionTreeRegressor(), param_grid=parameters , cv=5, n_jobs=-1)\n",
        "\n",
        "\n",
        "pipe2 = Pipeline(steps=[\n",
        "    ('step1',trf),\n",
        "    ('step3',dtr)\n",
        "])\n",
        "\n",
        "\n",
        "# fit the pipeline on training dataset\n",
        "pipe2.fit(X_train,y_train)\n",
        "\n",
        "# predict the train and test dataset \n",
        "y_pred_train = pipe2.predict(X_train)\n",
        "y_pred = pipe2.predict(X_test)\n",
        "\n",
        "\n",
        "# DecisionTreeRegressor model all output scores\n",
        "print('\\033[1mTraining data R2 and Adjusted R2 Score\\033[0m')\n",
        "print('\\033[1m' + '-----------------------------------------' + '\\033[0m')\n",
        "print('R2 score',r2_score(y_train,y_pred_train))\n",
        "print('Adjusted R2 score', (1-(1-r2_score(y_train,y_pred_train))*((X_train.shape[0]-1)/(X_train.shape[0]-X_train.shape[1]-1))))\n",
        "\n",
        "print('\\n')\n",
        "print('\\033[1mTesting data R2 and Adjusted R2 Score\\033[0m')\n",
        "print('\\033[1m' + '-----------------------------------------' + '\\033[0m')\n",
        "print('R2 score',r2_score(y_test,y_pred))\n",
        "print('Adjusted R2 score', (1-(1-r2_score(y_test,y_pred))*((X_test.shape[0]-1)/(X_test.shape[0]-X_test.shape[1]-1))))\n",
        "\n",
        "print('\\n')\n",
        "print('\\033[1mCross-validation score and best params\\033[0m')\n",
        "print('\\033[1m' + '-----------------------------------------' + '\\033[0m')\n",
        "print(\"The best parameters is\", dtr.best_params_)\n",
        "print('cross-validation score', dtr.best_score_)\n",
        "\n",
        "print('\\n')\n",
        "print('\\033[1mThe performance metrics\\033[0m')\n",
        "print('\\033[1m' + '-----------------------------------------' + '\\033[0m')\n",
        "print('MAE',mean_absolute_error(y_test,y_pred))\n",
        "print('MSE',mean_squared_error(y_test,y_pred))\n",
        "print('RMSE',np.sqrt(mean_squared_error(y_test,y_pred)))"
      ]
    },
    {
      "cell_type": "markdown",
      "metadata": {
        "id": "2gqWqIjCYq73"
      },
      "source": [
        "## **RandomForestRegressor**"
      ]
    },
    {
      "cell_type": "code",
      "execution_count": 72,
      "metadata": {
        "colab": {
          "base_uri": "https://localhost:8080/"
        },
        "id": "_XzysxvJ82wK",
        "outputId": "90ef780a-9884-46e1-f96d-638c372e5f62"
      },
      "outputs": [
        {
          "name": "stdout",
          "output_type": "stream",
          "text": [
            "\u001b[1mTraining data R2 and Adjusted R2 Score\u001b[0m\n",
            "\u001b[1m-----------------------------------------\u001b[0m\n",
            "R2 score 0.9905605797830253\n",
            "Adjusted R2 score 0.9905576368616793\n",
            "\n",
            "\n",
            "\u001b[1mTesting data R2 and Adjusted R2 Score\u001b[0m\n",
            "\u001b[1m-----------------------------------------\u001b[0m\n",
            "R2 score 0.9382502838986867\n",
            "Adjusted R2 score 0.938173202740153\n",
            "\n",
            "\n",
            "\u001b[1mCross-validation score and best params\u001b[0m\n",
            "\u001b[1m-----------------------------------------\u001b[0m\n",
            "The best parameters is {'max_features': 'sqrt', 'n_estimators': 100}\n",
            "cross-validation score 0.9222385684872713\n",
            "\n",
            "\n",
            "\u001b[1mThe performance metrics\u001b[0m\n",
            "\u001b[1m-----------------------------------------\u001b[0m\n",
            "MAE 4.490871928138479\n",
            "MSE 55.8937552845313\n",
            "RMSE 7.476212629703044\n"
          ]
        }
      ],
      "source": [
        "# apply RandomForestRegressor algorithm\n",
        "\n",
        "\n",
        "# giving parameters\n",
        "parameters = {\n",
        "    'n_estimators':[100],                        \n",
        "    'max_features' :['sqrt']                   \n",
        "}\n",
        " \n",
        "# we use gridsearchCV because the dataset is not that big so we use this not RandomizedSearchCV\n",
        "rfr = GridSearchCV(RandomForestRegressor(), param_grid=parameters , cv=5, n_jobs=-1)\n",
        "\n",
        "pipe4 = Pipeline(steps=[\n",
        "    ('step1',trf),\n",
        "    ('step3',rfr)\n",
        "])\n",
        "\n",
        "# fit the pipeline on training dataset\n",
        "pipe4.fit(X_train,y_train)\n",
        "\n",
        "# predict the train and test dataset \n",
        "y_pred_train = pipe4.predict(X_train)\n",
        "y_pred = pipe4.predict(X_test)\n",
        "\n",
        "# RandomForestRegressor model all output scores\n",
        "print('\\033[1mTraining data R2 and Adjusted R2 Score\\033[0m')\n",
        "print('\\033[1m' + '-----------------------------------------' + '\\033[0m')\n",
        "print('R2 score',r2_score(y_train,y_pred_train))\n",
        "print('Adjusted R2 score', (1-(1-r2_score(y_train,y_pred_train))*((X_train.shape[0]-1)/(X_train.shape[0]-X_train.shape[1]-1))))\n",
        "\n",
        "print('\\n')\n",
        "print('\\033[1mTesting data R2 and Adjusted R2 Score\\033[0m')\n",
        "print('\\033[1m' + '-----------------------------------------' + '\\033[0m')\n",
        "print('R2 score',r2_score(y_test,y_pred))\n",
        "print('Adjusted R2 score', (1-(1-r2_score(y_test,y_pred))*((X_test.shape[0]-1)/(X_test.shape[0]-X_test.shape[1]-1))))\n",
        "\n",
        "print('\\n')\n",
        "print('\\033[1mCross-validation score and best params\\033[0m')\n",
        "print('\\033[1m' + '-----------------------------------------' + '\\033[0m')\n",
        "print(\"The best parameters is\", rfr.best_params_)\n",
        "print('cross-validation score', rfr.best_score_)\n",
        "\n",
        "print('\\n')\n",
        "print('\\033[1mThe performance metrics\\033[0m')\n",
        "print('\\033[1m' + '-----------------------------------------' + '\\033[0m')\n",
        "print('MAE',mean_absolute_error(y_test,y_pred))\n",
        "print('MSE',mean_squared_error(y_test,y_pred))\n",
        "print('RMSE',np.sqrt(mean_squared_error(y_test,y_pred)))"
      ]
    },
    {
      "cell_type": "markdown",
      "metadata": {
        "id": "p3OSOxfPZX9M"
      },
      "source": [
        "## **XGBRegressor**"
      ]
    },
    {
      "cell_type": "code",
      "execution_count": 73,
      "metadata": {
        "colab": {
          "base_uri": "https://localhost:8080/"
        },
        "id": "6pJ68FqI82qv",
        "outputId": "8ef930f6-46c0-4015-cf69-3969f20d6ca9"
      },
      "outputs": [
        {
          "name": "stdout",
          "output_type": "stream",
          "text": [
            "\u001b[1mTraining data R2 and Adjusted R2 Score\u001b[0m\n",
            "\u001b[1m-----------------------------------------\u001b[0m\n",
            "R2 score 0.9063966039146877\n",
            "Adjusted R2 score 0.9063674212502807\n",
            "\n",
            "\n",
            "\u001b[1mTesting data R2 and Adjusted R2 Score\u001b[0m\n",
            "\u001b[1m-----------------------------------------\u001b[0m\n",
            "R2 score 0.8736689933815254\n",
            "Adjusted R2 score 0.8735112964565241\n",
            "\n",
            "\n",
            "\u001b[1mCross-validation score and best params\u001b[0m\n",
            "\u001b[1m-----------------------------------------\u001b[0m\n",
            "The best parameters is {'max_depth': 6}\n",
            "cross-validation score 0.8638022894292995\n",
            "\n",
            "\n",
            "\u001b[1mThe performance metrics\u001b[0m\n",
            "\u001b[1m-----------------------------------------\u001b[0m\n",
            "MAE 7.458634366301996\n",
            "MSE 114.35055599601942\n",
            "RMSE 10.693481939762156\n"
          ]
        }
      ],
      "source": [
        "# apply XGBRegressor algorithm\n",
        "\n",
        "\n",
        "# giving parameters\n",
        "parameters = {\n",
        "    'max_depth' :[6]                                                         \n",
        "}\n",
        " \n",
        "# we use gridsearchCV because the dataset is not that big so we use this not RandomizedSearchCV\n",
        "xgbr = GridSearchCV(XGBRegressor(objective='reg:squarederror'), param_grid=parameters , cv=5, n_jobs=-1)\n",
        "\n",
        "pipe5 = Pipeline(steps=[\n",
        "    ('step1',trf),\n",
        "    ('step3',xgbr)\n",
        "])\n",
        "\n",
        "# fit the pipeline on training dataset\n",
        "pipe5.fit(X_train,y_train)\n",
        "\n",
        "# predict the train and test dataset \n",
        "y_pred_train = pipe5.predict(X_train)\n",
        "y_pred = pipe5.predict(X_test)\n",
        "\n",
        "# GradientBoostingRegressor model all output scores\n",
        "print('\\033[1mTraining data R2 and Adjusted R2 Score\\033[0m')\n",
        "print('\\033[1m' + '-----------------------------------------' + '\\033[0m')\n",
        "print('R2 score',r2_score(y_train,y_pred_train))\n",
        "print('Adjusted R2 score', (1-(1-r2_score(y_train,y_pred_train))*((X_train.shape[0]-1)/(X_train.shape[0]-X_train.shape[1]-1))))\n",
        "\n",
        "print('\\n')\n",
        "print('\\033[1mTesting data R2 and Adjusted R2 Score\\033[0m')\n",
        "print('\\033[1m' + '-----------------------------------------' + '\\033[0m')\n",
        "print('R2 score',r2_score(y_test,y_pred))\n",
        "print('Adjusted R2 score', (1-(1-r2_score(y_test,y_pred))*((X_test.shape[0]-1)/(X_test.shape[0]-X_test.shape[1]-1))))\n",
        "\n",
        "print('\\n')\n",
        "print('\\033[1mCross-validation score and best params\\033[0m')\n",
        "print('\\033[1m' + '-----------------------------------------' + '\\033[0m')\n",
        "print(\"The best parameters is\", xgbr.best_params_)\n",
        "print('cross-validation score', xgbr.best_score_)\n",
        "\n",
        "print('\\n')\n",
        "print('\\033[1mThe performance metrics\\033[0m')\n",
        "print('\\033[1m' + '-----------------------------------------' + '\\033[0m')\n",
        "print('MAE',mean_absolute_error(y_test,y_pred))\n",
        "print('MSE',mean_squared_error(y_test,y_pred))\n",
        "print('RMSE',np.sqrt(mean_squared_error(y_test,y_pred)))"
      ]
    },
    {
      "cell_type": "markdown",
      "metadata": {
        "id": "bQui9O6ta1EX"
      },
      "source": [
        "## **GradientBoostingRegressor**"
      ]
    },
    {
      "cell_type": "code",
      "execution_count": 74,
      "metadata": {
        "colab": {
          "base_uri": "https://localhost:8080/"
        },
        "id": "QOuUWrL682sv",
        "outputId": "75f14fba-4062-460e-8763-78e8a82bf45e"
      },
      "outputs": [
        {
          "name": "stdout",
          "output_type": "stream",
          "text": [
            "\u001b[1mTraining data R2 and Adjusted R2 Score\u001b[0m\n",
            "\u001b[1m-----------------------------------------\u001b[0m\n",
            "R2 score 0.7240368749171924\n",
            "Adjusted R2 score 0.7239508380894191\n",
            "\n",
            "\n",
            "\u001b[1mTesting data R2 and Adjusted R2 Score\u001b[0m\n",
            "\u001b[1m-----------------------------------------\u001b[0m\n",
            "R2 score 0.7272505206554479\n",
            "Adjusted R2 score 0.7269100519507362\n",
            "\n",
            "\n",
            "\u001b[1mCross-validation score and best params\u001b[0m\n",
            "\u001b[1m-----------------------------------------\u001b[0m\n",
            "The best parameters is {'learning_rate': 0.1, 'max_depth': 3, 'n_estimators': 100}\n",
            "cross-validation score 0.7177284008776925\n",
            "\n",
            "\n",
            "\u001b[1mThe performance metrics\u001b[0m\n",
            "\u001b[1m-----------------------------------------\u001b[0m\n",
            "MAE 11.569278396475594\n",
            "MSE 246.88360716436537\n",
            "RMSE 15.712530259775647\n"
          ]
        }
      ],
      "source": [
        "# apply GradientBoostingRegressor algorithm with hyperparameter tuning as step2\n",
        "\n",
        "\n",
        "# giving parameters\n",
        "parameters = {\n",
        "    'n_estimators' :[100],                                     \n",
        "    'learning_rate' :[0.1],                                       \n",
        "    'max_depth' : [3]                                                          \n",
        "}\n",
        " \n",
        "# we use gridsearchCV because the dataset is not that big so we use this not RandomizedSearchCV\n",
        "gbr = GridSearchCV(GradientBoostingRegressor(), param_grid=parameters , cv=5, n_jobs=-1)\n",
        "\n",
        "pipe6 = Pipeline(steps=[\n",
        "    ('step1',trf),\n",
        "    ('step2',StandardScaler()),\n",
        "    ('step3',gbr)\n",
        "])\n",
        "\n",
        "# fit the pipeline on training dataset\n",
        "pipe6.fit(X_train,y_train)\n",
        "\n",
        "# predict the train and test dataset \n",
        "y_pred_train = pipe6.predict(X_train)\n",
        "y_pred = pipe6.predict(X_test)\n",
        "\n",
        "# GradientBoostingRegressor model all output scores\n",
        "print('\\033[1mTraining data R2 and Adjusted R2 Score\\033[0m')\n",
        "print('\\033[1m' + '-----------------------------------------' + '\\033[0m')\n",
        "print('R2 score',r2_score(y_train,y_pred_train))\n",
        "print('Adjusted R2 score', (1-(1-r2_score(y_train,y_pred_train))*((X_train.shape[0]-1)/(X_train.shape[0]-X_train.shape[1]-1))))\n",
        "\n",
        "print('\\n')\n",
        "print('\\033[1mTesting data R2 and Adjusted R2 Score\\033[0m')\n",
        "print('\\033[1m' + '-----------------------------------------' + '\\033[0m')\n",
        "print('R2 score',r2_score(y_test,y_pred))\n",
        "print('Adjusted R2 score', (1-(1-r2_score(y_test,y_pred))*((X_test.shape[0]-1)/(X_test.shape[0]-X_test.shape[1]-1))))\n",
        "\n",
        "print('\\n')\n",
        "print('\\033[1mCross-validation score and best params\\033[0m')\n",
        "print('\\033[1m' + '-----------------------------------------' + '\\033[0m')\n",
        "print(\"The best parameters is\", gbr.best_params_)\n",
        "print('cross-validation score', gbr.best_score_)\n",
        "\n",
        "print('\\n')\n",
        "print('\\033[1mThe performance metrics\\033[0m')\n",
        "print('\\033[1m' + '-----------------------------------------' + '\\033[0m')\n",
        "print('MAE',mean_absolute_error(y_test,y_pred))\n",
        "print('MSE',mean_squared_error(y_test,y_pred))\n",
        "print('RMSE',np.sqrt(mean_squared_error(y_test,y_pred)))"
      ]
    },
    {
      "cell_type": "markdown",
      "metadata": {
        "id": "ckIgPLspb5se"
      },
      "source": [
        "## Conclusion -\n",
        "\n",
        "- After conducting a thorough analysis, we have identified XGBRegressor and RandomForestRegressor as the top-performing models in our study. Both models demonstrated high r2 scores during cross-validation.\n",
        "\n",
        "- However, upon further evaluation, we found that the RandomForestRegressor demonstrated slightly better accuracy than XGBRegressor. While both models performed well, we did observe slight overfitting with the RandomForestRegressor on our training data.\n",
        "\n",
        "- Given these observations, we have ultimately decided to deploy the XGBRegressor pipeline for our task, as it represents a strong balance between accuracy and generalizability.\n",
        "\n",
        "- We are confident that the XGBRegressor pipeline will produce reliable and accurate predictions, and we recommend its use for further analysis and decision-making."
      ]
    },
    {
      "cell_type": "code",
      "execution_count": 75,
      "metadata": {
        "id": "L9gpVL2kfoYM"
      },
      "outputs": [],
      "source": [
        "import pickle\n",
        "\n",
        "pickle.dump(pipe5,open('pipe.pkl','wb'))"
      ]
    },
    {
      "cell_type": "code",
      "execution_count": 76,
      "metadata": {
        "id": "XQT6gx9ffoS1"
      },
      "outputs": [
        {
          "data": {
            "text/plain": [
              "['model_new.joblib']"
            ]
          },
          "execution_count": 76,
          "metadata": {},
          "output_type": "execute_result"
        }
      ],
      "source": [
        "from joblib import dump, load\n",
        "dump(pipe5, 'model_new.joblib')"
      ]
    },
    {
      "cell_type": "code",
      "execution_count": 78,
      "metadata": {
        "id": "mtvbohg_foRP"
      },
      "outputs": [
        {
          "data": {
            "text/plain": [
              "Index(['bat_team', 'bowl_team', 'runs', 'wickets', 'overs', 'runs_last_5',\n",
              "       'wickets_last_5', 'crr', 'balls_left', 'wickets_left'],\n",
              "      dtype='object')"
            ]
          },
          "execution_count": 78,
          "metadata": {},
          "output_type": "execute_result"
        }
      ],
      "source": [
        "X_train.columns\n"
      ]
    },
    {
      "cell_type": "code",
      "execution_count": null,
      "metadata": {
        "id": "ls4OzIwxfoPJ"
      },
      "outputs": [],
      "source": []
    },
    {
      "cell_type": "code",
      "execution_count": null,
      "metadata": {},
      "outputs": [],
      "source": []
    },
    {
      "cell_type": "code",
      "execution_count": null,
      "metadata": {
        "id": "IKuFqQaCfoND"
      },
      "outputs": [],
      "source": []
    },
    {
      "cell_type": "code",
      "execution_count": null,
      "metadata": {
        "id": "i2ZSYXjyfoK2"
      },
      "outputs": [],
      "source": []
    },
    {
      "cell_type": "code",
      "execution_count": null,
      "metadata": {
        "id": "TguCvUlDfoIX"
      },
      "outputs": [],
      "source": []
    },
    {
      "cell_type": "code",
      "execution_count": null,
      "metadata": {
        "id": "pHQay-8sfoGF"
      },
      "outputs": [],
      "source": []
    },
    {
      "cell_type": "code",
      "execution_count": null,
      "metadata": {
        "id": "3u4Rn3ZAfn36"
      },
      "outputs": [],
      "source": []
    }
  ],
  "metadata": {
    "colab": {
      "authorship_tag": "ABX9TyMe9jKrL2msrjGDiqwiPhgo",
      "include_colab_link": true,
      "mount_file_id": "1lUv0BuvwkiGmjijojr70zg_Y8VpwXpsI",
      "provenance": []
    },
    "gpuClass": "standard",
    "kernelspec": {
      "display_name": "Python 3",
      "name": "python3"
    },
    "language_info": {
      "codemirror_mode": {
        "name": "ipython",
        "version": 3
      },
      "file_extension": ".py",
      "mimetype": "text/x-python",
      "name": "python",
      "nbconvert_exporter": "python",
      "pygments_lexer": "ipython3",
      "version": "3.12.1"
    }
  },
  "nbformat": 4,
  "nbformat_minor": 0
}
